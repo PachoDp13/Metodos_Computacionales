{
 "cells": [
  {
   "cell_type": "code",
   "execution_count": null,
   "metadata": {},
   "outputs": [],
   "source": [
    "file_path = input()\n",
    "a_count, e_count, i_count, o_count, u_count=0 , 0, 0, 0, 0\n",
    "with open(file_path, 'r', encoding=\"utf8\") as file:\n",
    "    lines = file.readlines()\n",
    "    for line in lines:\n",
    "        line = line.lower()\n",
    "        for char in line:\n",
    "            if char == 'a' :\n",
    "                a_count +=1\n",
    "            if char == 'e':\n",
    "                e_count +=1\n",
    "            if char == 'i' :\n",
    "                i_count +=1\n",
    "            if char == 'o' :\n",
    "                o_count +=1\n",
    "            if char == 'u':\n",
    "                u_count +=1\n",
    "                \n",
    "print(f\"a = {a_count}, e = {e_count} , i = {i_count}, o = {o_count}, u = {u_count}\" )            \n"
   ]
  }
 ],
 "metadata": {
  "kernelspec": {
   "display_name": "Python 3",
   "language": "python",
   "name": "python3"
  },
  "language_info": {
   "codemirror_mode": {
    "name": "ipython",
    "version": 3
   },
   "file_extension": ".py",
   "mimetype": "text/x-python",
   "name": "python",
   "nbconvert_exporter": "python",
   "pygments_lexer": "ipython3",
   "version": "3.7.3"
  }
 },
 "nbformat": 4,
 "nbformat_minor": 2
}
