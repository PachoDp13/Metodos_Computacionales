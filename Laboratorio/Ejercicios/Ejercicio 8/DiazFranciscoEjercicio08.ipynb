{
 "cells": [
  {
   "cell_type": "code",
   "execution_count": 1,
   "metadata": {},
   "outputs": [
    {
     "name": "stdout",
     "output_type": "stream",
     "text": [
      "V_one = 2.9999999999999996, V_two = 1.6666666666666665, V_three = 3.333333333333333, V_four = 2.0\n"
     ]
    }
   ],
   "source": [
    "#Ejercicio 8: Laboratorio métodos computacionales\n",
    "#Estudiante: Francisco Javier Díaz Perdomo\n",
    "import numpy as np\n",
    "def MatrizDiagonal(A_):\n",
    "    B = A_.copy().astype(float)\n",
    "    n = B.shape[0]\n",
    "    for i in range(n - 1, -1, -1):\n",
    "\n",
    "        for j in range(i - 1, -1, -1):\n",
    "\n",
    "            B[j] = (B[j, i]/B[i, i]) * B[i] - B[j]\n",
    "\n",
    "        B[i] = B[i] / B[i, i]\n",
    "    return B\n",
    "def MatrizTriangularSuperior(A_):\n",
    "    B = A_.copy().astype(float)\n",
    "    n = B.shape[0]\n",
    "    for i in range(n):\n",
    "\n",
    "        indi_max = np.argmax(np.abs(B[i:, i]))\n",
    "        if indi_max > 0:\n",
    "            C = B[i].copy()\n",
    "            B[i] = B[i + indi_max]\n",
    "            B[i + indi_max] = C\n",
    "\n",
    "        for j in range(i + 1, n):\n",
    "            B[j] = (B[j, i]/B[i, i]) * B[i] - B[j]\n",
    "    return B\n",
    "\n",
    "V0 = 5\n",
    "A = np.array([[4, -1, -1, -1, V0],[1, -3, 0, 1, 0],[-1, 0, 3, -1, V0],[-1, -1, -1, 4, 0]])\n",
    "\n",
    "At = MatrizTriangularSuperior(A)\n",
    "D = MatrizDiagonal(At)\n",
    "V1, V2, V3, V4 = D[:, -1][0], D[:, -1][1], D[:, -1][2], D[:, -1][3]\n",
    "print(f\"V_one = {V1}, V_two = {V2}, V_three = {V3}, V_four = {V4}\")"
   ]
  }
 ],
 "metadata": {
  "kernelspec": {
   "display_name": "Python 3",
   "language": "python",
   "name": "python3"
  },
  "language_info": {
   "codemirror_mode": {
    "name": "ipython",
    "version": 3
   },
   "file_extension": ".py",
   "mimetype": "text/x-python",
   "name": "python",
   "nbconvert_exporter": "python",
   "pygments_lexer": "ipython3",
   "version": "3.8.5"
  }
 },
 "nbformat": 4,
 "nbformat_minor": 4
}
