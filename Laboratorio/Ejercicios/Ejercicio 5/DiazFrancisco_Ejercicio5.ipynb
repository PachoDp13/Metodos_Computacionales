{
 "cells": [
  {
   "cell_type": "code",
   "execution_count": 23,
   "metadata": {},
   "outputs": [
    {
     "name": "stdout",
     "output_type": "stream",
     "text": [
      "2.478525805083375 2.550164039877345\n",
      "Volumen esfera en 10D = 2.478525805083375\n"
     ]
    }
   ],
   "source": [
    "import numpy as np\n",
    "import math\n",
    "def VolumenNBola_MonteCarlo(R_, m_, n):\n",
    "    \n",
    "    m = int(m_)\n",
    "    R = ( np.random.rand(m)*(R_))\n",
    "    function = (R**(n-1))\n",
    "    \n",
    "    for i in range(1,n-1):\n",
    "        wi =  np.random.rand(m)*(np.pi)\n",
    "        function *= (np.sin(wi))**(n-(i+1))\n",
    "        \n",
    "    integral = sum(function)\n",
    "    integral *= 2*(np.pi**(n-1))*R_\n",
    "    integral *= (1/m)\n",
    "    return integral\n",
    "\n",
    "def VolumenNBola_Real(R,n):\n",
    "    \n",
    "    volumen = (((np.pi)**(n/2))*(R**n))/(math.gamma((n/2)+1))\n",
    "    return volumen\n",
    "    \n",
    "    \n",
    "    \n",
    "m = 1e6\n",
    "n = 10\n",
    "R = 1\n",
    "volumen_sphere_10d = VolumenNBola_MonteCarlo(R,m,n)\n",
    "volumen_sphere_10d_real = VolumenNBola_Real(R,n)\n",
    "\n",
    "print(volumen_sphere_10d,volumen_sphere_10d_real)\n",
    "print(f\"Volumen esfera en 10D = {volumen_sphere_10d}\")\n"
   ]
  }
 ],
 "metadata": {
  "kernelspec": {
   "display_name": "Python 3",
   "language": "python",
   "name": "python3"
  },
  "language_info": {
   "codemirror_mode": {
    "name": "ipython",
    "version": 3
   },
   "file_extension": ".py",
   "mimetype": "text/x-python",
   "name": "python",
   "nbconvert_exporter": "python",
   "pygments_lexer": "ipython3",
   "version": "3.8.5"
  }
 },
 "nbformat": 4,
 "nbformat_minor": 4
}
