{
 "cells": [
  {
   "cell_type": "code",
   "execution_count": 1,
   "metadata": {},
   "outputs": [
    {
     "name": "stderr",
     "output_type": "stream",
     "text": [
      "100%|██████████| 100000/100000 [00:09<00:00, 10041.89it/s]\n"
     ]
    },
    {
     "ename": "ValueError",
     "evalue": "The truth value of an array with more than one element is ambiguous. Use a.any() or a.all()",
     "output_type": "error",
     "traceback": [
      "\u001b[1;31m---------------------------------------------------------------------------\u001b[0m",
      "\u001b[1;31mValueError\u001b[0m                                Traceback (most recent call last)",
      "\u001b[1;32m<ipython-input-1-a2d45f77aea6>\u001b[0m in \u001b[0;36m<module>\u001b[1;34m\u001b[0m\n\u001b[0;32m     61\u001b[0m \u001b[1;33m\u001b[0m\u001b[0m\n\u001b[0;32m     62\u001b[0m \u001b[0mx\u001b[0m\u001b[1;33m=\u001b[0m\u001b[0mnp\u001b[0m\u001b[1;33m.\u001b[0m\u001b[0mlinspace\u001b[0m\u001b[1;33m(\u001b[0m\u001b[1;36m0\u001b[0m\u001b[1;33m,\u001b[0m\u001b[1;36m1\u001b[0m\u001b[1;33m,\u001b[0m\u001b[0mNpoints\u001b[0m\u001b[1;33m)\u001b[0m\u001b[1;33m\u001b[0m\u001b[1;33m\u001b[0m\u001b[0m\n\u001b[1;32m---> 63\u001b[1;33m \u001b[0my\u001b[0m \u001b[1;33m=\u001b[0m \u001b[1;33m(\u001b[0m\u001b[0mmath\u001b[0m\u001b[1;33m.\u001b[0m\u001b[0mgamma\u001b[0m\u001b[1;33m(\u001b[0m\u001b[0malpha_\u001b[0m\u001b[1;33m+\u001b[0m\u001b[0mbeta_\u001b[0m\u001b[1;33m)\u001b[0m\u001b[1;33m/\u001b[0m\u001b[1;33m(\u001b[0m\u001b[0mmath\u001b[0m\u001b[1;33m.\u001b[0m\u001b[0mgamma\u001b[0m\u001b[1;33m(\u001b[0m\u001b[0malpha_\u001b[0m\u001b[1;33m)\u001b[0m\u001b[1;33m*\u001b[0m\u001b[0mmath\u001b[0m\u001b[1;33m.\u001b[0m\u001b[0mgamma\u001b[0m\u001b[1;33m(\u001b[0m\u001b[0mbeta_\u001b[0m\u001b[1;33m)\u001b[0m\u001b[1;33m)\u001b[0m\u001b[1;33m)\u001b[0m\u001b[1;33m*\u001b[0m\u001b[0mLikelihood\u001b[0m\u001b[1;33m(\u001b[0m\u001b[0mx\u001b[0m\u001b[1;33m,\u001b[0m\u001b[0malpha_\u001b[0m\u001b[1;33m,\u001b[0m\u001b[0mbeta_\u001b[0m\u001b[1;33m)\u001b[0m\u001b[1;33m\u001b[0m\u001b[1;33m\u001b[0m\u001b[0m\n\u001b[0m\u001b[0;32m     64\u001b[0m \u001b[1;33m\u001b[0m\u001b[0m\n\u001b[0;32m     65\u001b[0m \u001b[0mfig\u001b[0m \u001b[1;33m=\u001b[0m \u001b[0mplt\u001b[0m\u001b[1;33m.\u001b[0m\u001b[0mfigure\u001b[0m\u001b[1;33m(\u001b[0m\u001b[0mfigsize\u001b[0m\u001b[1;33m=\u001b[0m\u001b[1;33m(\u001b[0m\u001b[1;36m12\u001b[0m\u001b[1;33m,\u001b[0m\u001b[1;36m12\u001b[0m\u001b[1;33m/\u001b[0m\u001b[1;36m1.6\u001b[0m\u001b[1;33m)\u001b[0m\u001b[1;33m)\u001b[0m\u001b[1;33m\u001b[0m\u001b[1;33m\u001b[0m\u001b[0m\n",
      "\u001b[1;32m<ipython-input-1-a2d45f77aea6>\u001b[0m in \u001b[0;36mLikelihood\u001b[1;34m(x, alpha, beta)\u001b[0m\n\u001b[0;32m     16\u001b[0m \u001b[1;33m\u001b[0m\u001b[0m\n\u001b[0;32m     17\u001b[0m \u001b[1;32mdef\u001b[0m \u001b[0mLikelihood\u001b[0m\u001b[1;33m(\u001b[0m\u001b[0mx\u001b[0m\u001b[1;33m,\u001b[0m\u001b[0malpha\u001b[0m\u001b[1;33m,\u001b[0m\u001b[0mbeta\u001b[0m\u001b[1;33m)\u001b[0m\u001b[1;33m:\u001b[0m\u001b[1;33m\u001b[0m\u001b[1;33m\u001b[0m\u001b[0m\n\u001b[1;32m---> 18\u001b[1;33m     \u001b[1;32mif\u001b[0m \u001b[0mx\u001b[0m\u001b[1;33m==\u001b[0m\u001b[1;36m0\u001b[0m \u001b[1;32mor\u001b[0m \u001b[0mx\u001b[0m \u001b[1;33m==\u001b[0m \u001b[1;36m1\u001b[0m\u001b[1;33m:\u001b[0m\u001b[1;33m\u001b[0m\u001b[1;33m\u001b[0m\u001b[0m\n\u001b[0m\u001b[0;32m     19\u001b[0m         \u001b[1;32mreturn\u001b[0m \u001b[0mnone\u001b[0m\u001b[1;33m\u001b[0m\u001b[1;33m\u001b[0m\u001b[0m\n\u001b[0;32m     20\u001b[0m     \u001b[1;32melse\u001b[0m\u001b[1;33m:\u001b[0m\u001b[1;33m\u001b[0m\u001b[1;33m\u001b[0m\u001b[0m\n",
      "\u001b[1;31mValueError\u001b[0m: The truth value of an array with more than one element is ambiguous. Use a.any() or a.all()"
     ]
    }
   ],
   "source": [
    "#Laboratorio métodos computacionales: Ejercicio 6\n",
    "#Estudiante: Francisco Javier Díaz Perdomo 201912252\n",
    "\n",
    "#Importamos las librerias que utilizaremos.\n",
    "\n",
    "import numpy             as np\n",
    "import matplotlib.pyplot as plt\n",
    "from matplotlib          import rc \n",
    "from tqdm import tqdm\n",
    "import math\n",
    "\n",
    "#Definiendo la sfunciones que utilizaremos\n",
    "\n",
    "def pi(x):\n",
    "    return np.piecewise(x, [x>=0. and x<=1., x>1. and x<0.], [lambda x:1,lambda x:0.])\n",
    "    \n",
    "def Likelihood(x,alpha,beta):\n",
    "    return (x**(alpha-1))*((1-x)**(beta-1))\n",
    "    \n",
    "def PosteriorF(x, alpha_, beta_):\n",
    "    return Likelihood(x,alpha_,beta_)*pi(x)\n",
    "    \n",
    "def Metropolis(H0_,WidthSteps,NSteps = int(1e5), alpha_ = 0.5, beta_ = 0.5):\n",
    "    \n",
    "    MCMC = np.array([])\n",
    "    \n",
    "    for i in tqdm(range(int(NSteps))):\n",
    "        \n",
    "        # Present\n",
    "        P0 = PosteriorF(H0_,alpha_ , beta_ )\n",
    "        \n",
    "        Hn_ = H0_ + WidthSteps*np.random.uniform(-1.,1.)\n",
    "        \n",
    "        # Futuro\n",
    "        \n",
    "        Pn = PosteriorF(Hn_, alpha_ , beta_ )\n",
    "        \n",
    "        alpha = Pn/P0\n",
    "        \n",
    "        r = np.random.rand()\n",
    "        \n",
    "        if np.minimum(1,alpha) > r:\n",
    "            \n",
    "            H0_ = Hn_\n",
    "            MCMC = np.append(MCMC,Hn_) \n",
    "            \n",
    "        else:\n",
    "            \n",
    "            MCMC = np.append(MCMC,H0_)  \n",
    "        \n",
    "    return MCMC\n",
    "\n",
    "#Calculando los datos para valores de alpha y beta. Adicionalmente graficamos\n",
    "\n",
    "alpha_, beta_= 0.5, 0.5\n",
    "Npoints = int(1e5)\n",
    "MCMC = Metropolis(0.9,0.08,Npoints, alpha_ , beta_ )\n",
    "\n",
    "x=np.linspace(0,1,Npoints)\n",
    "y = (math.gamma(alpha_+beta_)/(math.gamma(alpha_)*math.gamma(beta_)))*Likelihood(x,alpha_,beta_)\n",
    "\n",
    "fig = plt.figure(figsize=(12,12/1.6))\n",
    "ax = fig.add_subplot(1, 1, 1)\n",
    "ax.set_facecolor('k')\n",
    "ax.plot(x,y,linewidth=3,color='r', alpha = 1)\n",
    "ax.hist(MCMC, bins=150,density=True,color=(0.3,0.8,0.7,0.4), alpha = 1)\n",
    "plt.ylim(0,11)\n",
    "plt.xlim(0,1)\n",
    "plt.savefig('DiazFrancisco_grafica.png')\n",
    "plt.show()"
   ]
  }
 ],
 "metadata": {
  "kernelspec": {
   "display_name": "Python 3",
   "language": "python",
   "name": "python3"
  },
  "language_info": {
   "codemirror_mode": {
    "name": "ipython",
    "version": 3
   },
   "file_extension": ".py",
   "mimetype": "text/x-python",
   "name": "python",
   "nbconvert_exporter": "python",
   "pygments_lexer": "ipython3",
   "version": "3.8.5"
  }
 },
 "nbformat": 4,
 "nbformat_minor": 4
}
