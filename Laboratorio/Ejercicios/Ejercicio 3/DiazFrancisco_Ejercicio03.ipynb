{
 "cells": [
  {
   "cell_type": "code",
   "execution_count": 54,
   "metadata": {},
   "outputs": [
    {
     "name": "stdout",
     "output_type": "stream",
     "text": [
      "La raíces encontradas fueron:  [-1.9999999963507358, 2.0000000024328433, 4.000000004865685]\n"
     ]
    }
   ],
   "source": [
    "import numpy as np\n",
    "import matplotlib.pyplot as plt\n",
    "#Definimos una función auxiliar para determinar si dos valores están lo suficientemente cercanos.\n",
    "#Note que el valor de epsilon debe depender del parámetro de error (delta). Acá lo tomamos como 10*epsilon\n",
    "def vecindad(a, b, epsilon):\n",
    "    return abs(a-b) <= epsilon*10\n",
    "\n",
    "#Definimos la función de bisección\n",
    "def bisection(f,a,b,error):\n",
    "    prec = b-a\n",
    "    while (f(a)*f(b) != 0) and prec > error:\n",
    "        c=(a+b)/2\n",
    "        if f(a)*f(c) < 0:\n",
    "            b=c\n",
    "        else:\n",
    "            a=c\n",
    "        prec=b-a\n",
    "#Seleccionamos la raíz encontrada estimada\n",
    "    if vecindad(f(b),0,error):\n",
    "        return b\n",
    "    elif vecindad(f(a),0,error):\n",
    "        return a\n",
    "    \n",
    "#Definimos nuestra precisión, la función de interés y el intervalo en dónde queremos encontrar las raíces.\n",
    "\n",
    "err=1e-8\n",
    "Function =  lambda x: (x+2)*(x-2)*(x-4)\n",
    "roots = []\n",
    "I =np.linspace(-10,10,50) \n",
    "\n",
    "#Realizamos el barrido para encontrar todas las raíces en el intervalo I\n",
    "i= 0\n",
    "while i  <  len (I)-1:\n",
    "    a =I[i]\n",
    "    b = I[i+1]\n",
    "    root = bisection(Function,a,b,err)\n",
    "    if root != None and ((root in roots) == False):\n",
    "        roots.append(root)\n",
    "    i+=1\n",
    "\n",
    "print(\"La raíces encontradas fueron:  \" +str(roots))"
   ]
  }
 ],
 "metadata": {
  "kernelspec": {
   "display_name": "Python 3",
   "language": "python",
   "name": "python3"
  },
  "language_info": {
   "codemirror_mode": {
    "name": "ipython",
    "version": 3
   },
   "file_extension": ".py",
   "mimetype": "text/x-python",
   "name": "python",
   "nbconvert_exporter": "python",
   "pygments_lexer": "ipython3",
   "version": "3.8.5"
  }
 },
 "nbformat": 4,
 "nbformat_minor": 4
}
