{
 "cells": [
  {
   "cell_type": "code",
   "execution_count": 5,
   "metadata": {},
   "outputs": [],
   "source": [
    "#include <iostream>"
   ]
  },
  {
   "cell_type": "code",
   "execution_count": 7,
   "metadata": {},
   "outputs": [],
   "source": [
    "class Student\n",
    "{\n",
    "    private:\n",
    "        char name;\n",
    "        int std_id;\n",
    "        int* ptr = &std_id;\n",
    "        char major;\n",
    "    public:\n",
    "        char get_name()\n",
    "        {\n",
    "            return name;\n",
    "        }\n",
    "}"
   ]
  },
  {
   "cell_type": "code",
   "execution_count": 13,
   "metadata": {},
   "outputs": [],
   "source": [
    "void swap(int* pa, int* pb)\n",
    "{\n",
    "    int b_temp = *pb;\n",
    "    *pb = *pa; // b=a\n",
    "    *pa = b_temp; //a=b\n",
    "}"
   ]
  },
  {
   "cell_type": "code",
   "execution_count": 16,
   "metadata": {},
   "outputs": [],
   "source": [
    "int main()\n",
    "{\n",
    "    int a;\n",
    "    int b;\n",
    "    \n",
    "    std::cin >> a;\n",
    "    std::cin >> b;\n",
    "    std::cout << a << \"\" << b;\n",
    "    return 0;\n",
    "}"
   ]
  }
 ],
 "metadata": {
  "kernelspec": {
   "display_name": "C++17",
   "language": "C++17",
   "name": "xcpp17"
  },
  "language_info": {
   "codemirror_mode": "text/x-c++src",
   "file_extension": ".cpp",
   "mimetype": "text/x-c++src",
   "name": "c++",
   "version": "17"
  }
 },
 "nbformat": 4,
 "nbformat_minor": 4
}
