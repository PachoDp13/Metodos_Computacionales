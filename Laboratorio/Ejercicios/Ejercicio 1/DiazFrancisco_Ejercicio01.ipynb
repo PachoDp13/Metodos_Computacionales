{
 "cells": [
  {
   "cell_type": "code",
   "execution_count": 3,
   "metadata": {},
   "outputs": [
    {
     "name": "stdout",
     "output_type": "stream",
     "text": [
      "97.5\n",
      "15.0\n",
      "No hay sol.\n"
     ]
    }
   ],
   "source": [
    "def angulo_sol(hora_):\n",
    "    horas = hora_[0]+hora_[1]\n",
    "    minutos = hora_[3]+hora_[4]\n",
    "\n",
    "    horas= int(horas)\n",
    "    minutos = int(minutos)\n",
    "    \n",
    "    if horas >= 6 and horas <= 18:\n",
    "        total = (horas-6)*60 + minutos\n",
    "        angulo = total/4\n",
    "        return(angulo)\n",
    "    else:\n",
    "        return (\"No hay sol.\")\n",
    "\n",
    "print(angulo_sol(\"12:30\"))\n",
    "print(angulo_sol(\"07:00\"))\n",
    "print(angulo_sol(\"05:55\"))\n",
    "        "
   ]
  },
  {
   "cell_type": "code",
   "execution_count": null,
   "metadata": {},
   "outputs": [],
   "source": []
  }
 ],
 "metadata": {
  "kernelspec": {
   "display_name": "Python 3",
   "language": "python",
   "name": "python3"
  },
  "language_info": {
   "codemirror_mode": {
    "name": "ipython",
    "version": 3
   },
   "file_extension": ".py",
   "mimetype": "text/x-python",
   "name": "python",
   "nbconvert_exporter": "python",
   "pygments_lexer": "ipython3",
   "version": "3.7.3"
  }
 },
 "nbformat": 4,
 "nbformat_minor": 2
}
