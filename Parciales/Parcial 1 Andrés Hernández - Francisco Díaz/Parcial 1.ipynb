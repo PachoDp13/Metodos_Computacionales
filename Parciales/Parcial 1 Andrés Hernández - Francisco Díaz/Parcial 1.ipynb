{
 "cells": [
  {
   "cell_type": "code",
   "execution_count": 1,
   "metadata": {},
   "outputs": [],
   "source": [
    "#A continuación importamos las librerias que utilizaremos. \n",
    "import numpy as np\n",
    "import os\n",
    "import matplotlib.pyplot as plt\n",
    "import subprocess\n",
    "import sympy as sym\n",
    "import math\n",
    "import scipy \n",
    "from scipy.optimize import curve_fit as cfit"
   ]
  },
  {
   "cell_type": "markdown",
   "metadata": {},
   "source": [
    "# Parcial 1: Métodos Computacionales\n",
    "### Estudiantes: Andrés Hernández (201329363)    Francisco Díaz (201912252)"
   ]
  },
  {
   "cell_type": "markdown",
   "metadata": {},
   "source": [
    " ## 2. Integration "
   ]
  },
  {
   "cell_type": "code",
   "execution_count": 2,
   "metadata": {},
   "outputs": [
    {
     "name": "stdout",
     "output_type": "stream",
     "text": [
      "-3*h**5/80\n"
     ]
    }
   ],
   "source": [
    "#Definimos Los polinomios de integración para una partición arbitraria.\n",
    "\n",
    "PolyFunction = lambda x: (x-X[0])*(x-X[1])*(x-X[2])*(x-X[3])\n",
    "\n",
    "x = sym.Symbol('x')\n",
    "h = sym.Symbol('h')\n",
    "integral = sym.integrate((x)*(x-h)*(x-2*h)*(x-3*h), (x,0,3*h))\n",
    "y = sym.Symbol('y',real=True)\n",
    "\n",
    "y = integral / math.factorial(4)\n",
    "\n",
    "print (y)"
   ]
  },
  {
   "cell_type": "markdown",
   "metadata": {},
   "source": [
    "Note que este es el coeficiente que acompaña a $f^{(4)}(\\epsilon)$ en la definición del error en la regla de Simpson $3/8$."
   ]
  },
  {
   "cell_type": "markdown",
   "metadata": {},
   "source": [
    "## 3. Integración "
   ]
  },
  {
   "cell_type": "markdown",
   "metadata": {},
   "source": [
    "1) Gauss-Laguerre Integration"
   ]
  },
  {
   "cell_type": "code",
   "execution_count": 3,
   "metadata": {},
   "outputs": [],
   "source": [
    "def Derivada(f,x,h):\n",
    "    d=0.\n",
    "    \n",
    "    if(h!=0):\n",
    "        \n",
    "        d= (f(x+h)-f(x-h))/(2*h)\n",
    "    return d\n",
    "\n",
    "#Definimos el método de NewtonRaphson\n",
    "\n",
    "def NewtonMethod(f,df,xn, error, it, precision = 0.0001, iterations=1000):\n",
    "    \n",
    "    h_= 1.0e-7\n",
    "    \n",
    "    while error > precision and it < iterations:\n",
    "        \n",
    "        try:\n",
    "            xn1 = xn - f(xn)/df(f,xn,h_)\n",
    "            error = np.abs((xn1-xn)/xn1)\n",
    "            \n",
    "        except ZeroDivisionError:\n",
    "            print(\"Hay división por cero.\")\n",
    "            \n",
    "            \n",
    "        xn = xn1\n",
    "        \n",
    "        it = it +1   \n",
    "    return xn1\n",
    "\n",
    "#Definimos la función que encuentra las raíces sin repetición\n",
    "\n",
    "def polyRoots(f_,x_):\n",
    "    roots =[]\n",
    "    for i in x_:\n",
    "        root = NewtonMethod(f_, Derivada,i, 1000,0)\n",
    "        root = round(root,  5)\n",
    "        if ((root in roots) == False):\n",
    "            roots.append(root)\n",
    "            \n",
    "    return np.sort(roots)\n"
   ]
  },
  {
   "cell_type": "code",
   "execution_count": 4,
   "metadata": {},
   "outputs": [
    {
     "name": "stdout",
     "output_type": "stream",
     "text": [
      "6.481132464522558 6.493939402266828\n"
     ]
    }
   ],
   "source": [
    "#Definimos nuestra función original y el cambio de variable\n",
    "\n",
    "Fx = lambda x: ((x**3)*np.exp(x))/(np.exp(x)-1)\n",
    "\n",
    "#Definimos la función de integración Gaussiana.\n",
    "\n",
    "def GaussianIntegration(f,  n):\n",
    "    x = sym.Symbol('x',Real=True)\n",
    "    LN1 =sym.polys.orthopolys.laguerre_poly(n+1,x)\n",
    "    LN =  sym.polys.orthopolys.laguerre_poly(n,x)\n",
    "    Xtest = np.linspace(0,n+1+((n**2 -n)/np.sqrt(n)),5000)\n",
    "    \n",
    "    FunctionN =sym.lambdify([x],LN,'numpy')  \n",
    "    FunctionN1 =sym.lambdify([x],LN1,'numpy') \n",
    "    LRoots = np.sort(polyRoots(FunctionN, Xtest)) \n",
    "    pondeW = []\n",
    "    i = 0 \n",
    "    while i < n:\n",
    "        w = LRoots[i]/(((n+1)**2)*((FunctionN1(LRoots[i]))**2 ))\n",
    "        pondeW.append(w)\n",
    "        i+=1\n",
    "    i=0\n",
    "    sum = 0\n",
    "\n",
    "    while i < n:\n",
    "        sum += pondeW[i] * f(LRoots[i])\n",
    "        i+=1\n",
    "    \n",
    "    return sum\n",
    "\n",
    "#Calculamos e imprimimos nuestro valor de interes.\n",
    "NGrad = 3\n",
    "integral = GaussianIntegration(Fx,NGrad)\n",
    "print(integral , (np.pi**4)/15)"
   ]
  },
  {
   "cell_type": "markdown",
   "metadata": {},
   "source": [
    "b) Estimando los errores en función de $n$."
   ]
  },
  {
   "cell_type": "code",
   "execution_count": 5,
   "metadata": {},
   "outputs": [
    {
     "data": {
      "image/png": "[encoded data removed]",
      "text/plain": [
       "<Figure size 1440x576 with 1 Axes>"
      ]
     },
     "metadata": {
      "needs_background": "light"
     },
     "output_type": "display_data"
    }
   ],
   "source": [
    "def errorLaguerre(n):\n",
    "    errors = []\n",
    "    real = (np.pi**4)/15\n",
    "    i=2\n",
    "    while i <=n:\n",
    "        estimated= GaussianIntegration(Fx,i)\n",
    "        error = estimated/real\n",
    "        errors.append(error)\n",
    "        i+=1\n",
    "    return errors\n",
    "NPoints = np.linspace(2,10,9)\n",
    "Errores = errorLaguerre(float(NPoints[-1]))\n",
    "fig = plt.figure(figsize=(20,8))\n",
    "ax1=fig.add_subplot(121)\n",
    "ax1.plot(NPoints, Errores,'g*' )\n",
    "\n",
    "ax1.set(xlabel='n',ylabel = 'Acurracy')\n",
    "\n",
    "plt.title('Accurracy vs n-points for the Gauss-Laguerre quadrature')\n",
    "plt.style.use('seaborn-whitegrid')\n"
   ]
  }
 ],
 "metadata": {
  "kernelspec": {
   "display_name": "Python 3",
   "language": "python",
   "name": "python3"
  },
  "language_info": {
   "codemirror_mode": {
    "name": "ipython",
    "version": 3
   },
   "file_extension": ".py",
   "mimetype": "text/x-python",
   "name": "python",
   "nbconvert_exporter": "python",
   "pygments_lexer": "ipython3",
   "version": "3.8.5"
  }
 },
 "nbformat": 4,
 "nbformat_minor": 4
}
