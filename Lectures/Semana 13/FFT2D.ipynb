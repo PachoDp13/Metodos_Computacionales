{
 "cells": [
  {
   "cell_type": "code",
   "execution_count": 2,
   "metadata": {},
   "outputs": [
    {
     "name": "stdout",
     "output_type": "stream",
     "text": [
      "Using matplotlib backend: Qt5Agg\n",
      "Populating the interactive namespace from numpy and matplotlib\n"
     ]
    }
   ],
   "source": [
    "%pylab\n",
    "import numpy as np\n",
    "import matplotlib.pyplot as plt\n",
    "import cv2"
   ]
  },
  {
   "cell_type": "code",
   "execution_count": 10,
   "metadata": {},
   "outputs": [
    {
     "data": {
      "text/plain": [
       "(316, 176, 3)"
      ]
     },
     "execution_count": 10,
     "metadata": {},
     "output_type": "execute_result"
    }
   ],
   "source": [
    "image = cv2.imread('images/Tio.jpeg')\n",
    "cv2.imshow('ImagenOriginal',image)\n",
    "\n",
    "image.shape"
   ]
  },
  {
   "cell_type": "code",
   "execution_count": 4,
   "metadata": {},
   "outputs": [],
   "source": [
    "Nx, Ny = 512,512\n",
    "image = cv2.resize(image,(Nx,Ny))\n",
    "cv2.imshow('ImagenOriginal',image)"
   ]
  },
  {
   "cell_type": "code",
   "execution_count": 5,
   "metadata": {},
   "outputs": [
    {
     "data": {
      "text/plain": [
       "(512, 512)"
      ]
     },
     "execution_count": 5,
     "metadata": {},
     "output_type": "execute_result"
    }
   ],
   "source": [
    "# Escala de grises\n",
    "image_gray = cv2.cvtColor(image, cv2.COLOR_RGB2GRAY)\n",
    "cv2.imshow('ImagenGrises',image_gray)\n",
    "image_gray.shape"
   ]
  },
  {
   "cell_type": "code",
   "execution_count": 6,
   "metadata": {},
   "outputs": [],
   "source": [
    "image_gray_float = np.float64(image_gray)"
   ]
  },
  {
   "cell_type": "code",
   "execution_count": 21,
   "metadata": {},
   "outputs": [],
   "source": [
    "image1 = cv2.cvtColor(image_gray, cv2.COLOR_GRAY2RGB)\n",
    "\n",
    "cv2.imshow('imagen',image1)"
   ]
  },
  {
   "cell_type": "code",
   "execution_count": 9,
   "metadata": {},
   "outputs": [],
   "source": [
    "rojo = image1.copy()\n",
    "\n",
    "rojo[:,:,0] = 0\n",
    "rojo[:,:,1] = 0\n",
    "\n",
    "cv2.imshow('rojo',rojo)"
   ]
  },
  {
   "cell_type": "code",
   "execution_count": 23,
   "metadata": {},
   "outputs": [],
   "source": [
    "azul = image1.copy()\n",
    "\n",
    "azul[:,:,1] = 0\n",
    "azul[:,:,2] = 0\n",
    "\n",
    "cv2.imshow('azul',azul)"
   ]
  },
  {
   "cell_type": "code",
   "execution_count": 25,
   "metadata": {},
   "outputs": [],
   "source": [
    "verde = image1.copy()\n",
    "\n",
    "verde[:,:,0] = 0\n",
    "verde[:,:,2] = 0\n",
    "\n",
    "cv2.imshow('verde',verde)"
   ]
  },
  {
   "cell_type": "code",
   "execution_count": 28,
   "metadata": {},
   "outputs": [],
   "source": [
    "# Obtener la transformada de Fourier\n",
    "\n",
    "FFT = np.fft.fft2(image_gray_float)\n",
    "\n",
    "FFT = np.fft.fftshift(FFT) # Centrar las frecuencias a 0\n",
    "\n",
    "FFTA = np.abs(FFT) # Valores muy grandes de la FFT, mejor trabajar con LOG\n",
    "\n",
    "FFTLog = np.log10(FFTA)"
   ]
  },
  {
   "cell_type": "code",
   "execution_count": 29,
   "metadata": {},
   "outputs": [],
   "source": [
    "cv2.imshow('Espectro de Fourier', np.uint8(255*FFTLog/np.max(FFTLog)))"
   ]
  },
  {
   "cell_type": "code",
   "execution_count": 30,
   "metadata": {},
   "outputs": [
    {
     "name": "stdout",
     "output_type": "stream",
     "text": [
      "[[0.99609375 0.99414254 0.99219519 ... 0.99414254 0.99609375 0.99804879]\n",
      " [0.99414254 0.9921875  0.9902363  ... 0.9921875  0.99414254 0.99610141]\n",
      " [0.99219519 0.9902363  0.98828125 ... 0.9902363  0.99219519 0.99415789]\n",
      " ...\n",
      " [0.99414254 0.9921875  0.9902363  ... 0.9921875  0.99414254 0.99610141]\n",
      " [0.99609375 0.99414254 0.99219519 ... 0.99414254 0.99609375 0.99804879]\n",
      " [0.99804879 0.99610141 0.99415789 ... 0.99610141 0.99804879 1.        ]]\n"
     ]
    }
   ],
   "source": [
    "# La idea es diseñar un filtro\n",
    "\n",
    "F1 = np.arange( -0.5*Nx + 1, 0.5*Nx + 1, 1)\n",
    "F2 = np.arange( -0.5*Ny + 1, 0.5*Ny + 1, 1)\n",
    "\n",
    "[X,Y] = np.meshgrid(F1,F2)\n",
    "\n",
    "D = np.sqrt(X**2+Y**2)\n",
    "D = D/np.max(D)\n",
    "\n",
    "print(D)"
   ]
  },
  {
   "cell_type": "code",
   "execution_count": 52,
   "metadata": {},
   "outputs": [],
   "source": [
    "# Definimos un radio de Corte\n",
    "\n",
    "D0 = 0.2\n",
    "\n",
    "Huv = np.zeros((Nx,Ny))\n",
    "\n",
    "for i in range(Nx):\n",
    "    for j in range(Ny):\n",
    "        if(D[i,j] > D0):\n",
    "            Huv[i,j] = 1"
   ]
  },
  {
   "cell_type": "code",
   "execution_count": 48,
   "metadata": {},
   "outputs": [],
   "source": [
    "cv2.imshow('FiltroDeAlta',np.uint8(255*Huv))"
   ]
  },
  {
   "cell_type": "code",
   "execution_count": 53,
   "metadata": {},
   "outputs": [],
   "source": [
    "# Usamos el teorema de convolucion\n",
    "\n",
    "Guv = Huv*FFT\n",
    "\n",
    "# Tomamos magnitud\n",
    "\n",
    "GuvA = np.abs(Guv)\n",
    "\n",
    "# Escalar\n",
    "\n",
    "GuvA = np.uint8( 255*GuvA/np.max(GuvA) )"
   ]
  },
  {
   "cell_type": "code",
   "execution_count": 44,
   "metadata": {},
   "outputs": [],
   "source": [
    "cv2.imshow('EspectroconFiltro', np.uint8(GuvA*255) )"
   ]
  },
  {
   "cell_type": "code",
   "execution_count": 54,
   "metadata": {},
   "outputs": [
    {
     "name": "stdout",
     "output_type": "stream",
     "text": [
      "[[13.35525637  2.39432934  9.63497982 ... 19.1513997  15.53548638\n",
      "   6.55281061]\n",
      " [12.85435365  1.07487334  1.86750608 ...  9.43300307  7.63438164\n",
      "   2.19942211]\n",
      " [ 9.24196485  1.33002342  1.34021428 ...  2.40085332  1.46650033\n",
      "   0.99161065]\n",
      " ...\n",
      " [19.50874422  7.40419179  2.79107571 ...  4.85782597  9.16844984\n",
      "  24.58594128]\n",
      " [24.81081193 13.85374821  4.17730726 ...  5.78810675 13.09692698\n",
      "  26.83377089]\n",
      " [19.23148918 20.67467389 10.66934186 ... 15.77491911 21.54929352\n",
      "  28.29253958]]\n"
     ]
    }
   ],
   "source": [
    "# Ahora tomemos la transformada inversa\n",
    "\n",
    "Gxy = np.fft.ifft2(Guv)\n",
    "Gxy = np.abs(Gxy)\n",
    "\n",
    "print(Gxy)"
   ]
  },
  {
   "cell_type": "code",
   "execution_count": 60,
   "metadata": {},
   "outputs": [],
   "source": [
    "cv2.imshow('ImagenConFiltro', np.uint8(Gxy))"
   ]
  },
  {
   "cell_type": "markdown",
   "metadata": {},
   "source": [
    "# References\n",
    "\n",
    "https://www.oreilly.com/library/view/elegant-scipy/9781491922927/ch04.html\n",
    "\n",
    "# Bordes.\n",
    "\n",
    "Lugares de la imagen donde hay un cambio brusco de la intensidad.\n",
    "\n",
    "$$ dI(x,y) = \\sqrt{ \\bigg(\\frac{dI(x,y)}{dx}\\bigg)^{2} + \\bigg(\\frac{dI(x,y)}{dx}\\bigg)^{2} }  $$"
   ]
  },
  {
   "cell_type": "code",
   "execution_count": 15,
   "metadata": {},
   "outputs": [],
   "source": [
    "kernel1 = np.array([ -0.5,1,0.5 ])\n",
    "kernel2 = np.array( [[ -1 ], [0], [1]]  )"
   ]
  },
  {
   "cell_type": "code",
   "execution_count": 16,
   "metadata": {},
   "outputs": [],
   "source": [
    "X = cv2.filter2D(image, -1, kernel1)\n",
    "Y = cv2.filter2D(image, -1, kernel2)"
   ]
  },
  {
   "cell_type": "code",
   "execution_count": 17,
   "metadata": {},
   "outputs": [],
   "source": [
    "# Matriz de intensidad\n",
    "\n",
    "Mxy = np.sqrt(X**2+Y**2)\n",
    "\n",
    "Mxy = Mxy/np.max(Mxy)"
   ]
  },
  {
   "cell_type": "code",
   "execution_count": 34,
   "metadata": {},
   "outputs": [],
   "source": [
    "# Aplicar un filtro\n",
    "kernel1 = np.array([ -1,0.01,1 ])\n",
    "kernel2 = np.array( [[ -2 ], [0.01], [2]]  )\n",
    "X = cv2.filter2D(image, -1, kernel1)\n",
    "Y = cv2.filter2D(image, -1, kernel2)\n",
    "Mxy = np.sqrt(X**2+Y**2)\n",
    "\n",
    "Mxy = Mxy/np.max(Mxy)\n",
    "mask = np.where( Mxy > 0.5, 255, 0)\n",
    "\n",
    "mask = np.uint8(mask)\n",
    "\n",
    "cv2.imshow('Bordes',mask)"
   ]
  },
  {
   "cell_type": "code",
   "execution_count": 26,
   "metadata": {},
   "outputs": [
    {
     "ename": "KeyboardInterrupt",
     "evalue": "",
     "output_type": "error",
     "traceback": [
      "\u001b[1;31m---------------------------------------------------------------------------\u001b[0m",
      "\u001b[1;31mKeyboardInterrupt\u001b[0m                         Traceback (most recent call last)",
      "\u001b[1;32m<ipython-input-26-5f37dafc6bed>\u001b[0m in \u001b[0;36m<module>\u001b[1;34m\u001b[0m\n\u001b[0;32m     18\u001b[0m \u001b[1;33m\u001b[0m\u001b[0m\n\u001b[0;32m     19\u001b[0m \u001b[1;33m\u001b[0m\u001b[0m\n\u001b[1;32m---> 20\u001b[1;33m     \u001b[0mMxy\u001b[0m \u001b[1;33m=\u001b[0m \u001b[0mnp\u001b[0m\u001b[1;33m.\u001b[0m\u001b[0msqrt\u001b[0m\u001b[1;33m(\u001b[0m\u001b[0mX\u001b[0m\u001b[1;33m**\u001b[0m\u001b[1;36m2\u001b[0m\u001b[1;33m+\u001b[0m\u001b[0mY\u001b[0m\u001b[1;33m**\u001b[0m\u001b[1;36m2\u001b[0m\u001b[1;33m)\u001b[0m\u001b[1;33m\u001b[0m\u001b[1;33m\u001b[0m\u001b[0m\n\u001b[0m\u001b[0;32m     21\u001b[0m \u001b[1;33m\u001b[0m\u001b[0m\n\u001b[0;32m     22\u001b[0m     \u001b[0mMxy\u001b[0m \u001b[1;33m=\u001b[0m \u001b[0mMxy\u001b[0m\u001b[1;33m/\u001b[0m\u001b[0mnp\u001b[0m\u001b[1;33m.\u001b[0m\u001b[0mmax\u001b[0m\u001b[1;33m(\u001b[0m\u001b[0mMxy\u001b[0m\u001b[1;33m)\u001b[0m\u001b[1;33m\u001b[0m\u001b[1;33m\u001b[0m\u001b[0m\n",
      "\u001b[1;31mKeyboardInterrupt\u001b[0m: "
     ]
    }
   ],
   "source": [
    "video = cv2.VideoCapture(0)\n",
    "\n",
    "run = True\n",
    "\n",
    "while run:\n",
    "    \n",
    "    # Lectura de imagenes\n",
    "    ret, frame1 = video.read()\n",
    "    frame = cv2.cvtColor(frame1, cv2.COLOR_RGB2GRAY)\n",
    "    \n",
    "    frame_float = frame.astype(float)\n",
    "    \n",
    "    kernel1 = np.array([ -1,0,1 ])\n",
    "    kernel2 = np.array( [[ -1 ], [0], [1]]  )\n",
    "    \n",
    "    X = cv2.filter2D(frame_float, -1, kernel1)\n",
    "    Y = cv2.filter2D(frame_float, -1, kernel2)\n",
    "    \n",
    "    \n",
    "    Mxy = np.sqrt(X**2+Y**2)\n",
    "    \n",
    "    Mxy = Mxy/np.max(Mxy)\n",
    "    \n",
    "    mask = np.where( Mxy > 0.1, 255, 0)\n",
    "\n",
    "    mask = np.uint8(mask)\n",
    "    \n",
    "    cv2.imshow('Bordes',mask)\n",
    "    \n",
    "    k = cv2.waitKey(1)&0xFF\n",
    "    if(k == ord('p')):\n",
    "        \n",
    "        print('Exit')\n",
    "        run = False\n",
    "        break\n",
    "    \n",
    "video.release()\n",
    "cv2.destroyAllWindows()"
   ]
  },
  {
   "cell_type": "raw",
   "metadata": {},
   "source": []
  }
 ],
 "metadata": {
  "kernelspec": {
   "display_name": "Python 3",
   "language": "python",
   "name": "python3"
  },
  "language_info": {
   "codemirror_mode": {
    "name": "ipython",
    "version": 3
   },
   "file_extension": ".py",
   "mimetype": "text/x-python",
   "name": "python",
   "nbconvert_exporter": "python",
   "pygments_lexer": "ipython3",
   "version": "3.8.5"
  }
 },
 "nbformat": 4,
 "nbformat_minor": 2
}
