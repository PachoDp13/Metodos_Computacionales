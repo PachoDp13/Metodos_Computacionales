{
 "cells": [
  {
   "cell_type": "code",
   "execution_count": 1,
   "metadata": {},
   "outputs": [
    {
     "name": "stdout",
     "output_type": "stream",
     "text": [
      "pygame 1.9.6\n",
      "Hello from the pygame community. https://www.pygame.org/contribute.html\n"
     ]
    }
   ],
   "source": [
    "import pygame, time, os\n",
    "import numpy as np"
   ]
  },
  {
   "cell_type": "markdown",
   "metadata": {},
   "source": [
    "$$ f(t) = \\frac{4}{\\pi} \\sum_{n=impar} \\frac{1}{n}sin(n\\omega_{0}t) $$ \n",
    "\n",
    "$$ f(t) = \\frac{8}{\\pi^{2}} \\sum_{n=impar} \\frac{1}{n^{2}}cos(n\\omega_{0}t) $$ "
   ]
  },
  {
   "cell_type": "code",
   "execution_count": 2,
   "metadata": {},
   "outputs": [],
   "source": [
    "os.environ['SDL_VIDEO_CENTERED'] = '1'"
   ]
  },
  {
   "cell_type": "code",
   "execution_count": 3,
   "metadata": {},
   "outputs": [],
   "source": [
    "# Parametros para pygame\n",
    "Width, Height = 1000,400 # Pixels\n",
    "fps = 60\n",
    "time = 0\n",
    "\n",
    "Xc, Yc = 200,200 # Ajustar el centro del primer circulo\n",
    "\n",
    "offset = 300\n",
    "\n",
    "NCircles = 5 # Numero de Armonicos\n",
    "omega = 10.    # Frecuencia fundamental\n",
    "\n",
    "# Colores\n",
    "\n",
    "Colors = []\n",
    "Colors.append((230,230,230)) # Blanco \n",
    "Colors.append((28,28,28)) # Negro\n",
    "Colors.append((250,0,0)) # Rojo\n",
    "Colors.append((0,0,250)) # Azul"
   ]
  },
  {
   "cell_type": "code",
   "execution_count": 4,
   "metadata": {},
   "outputs": [],
   "source": [
    "# Simulacion\n",
    "pygame.display.set_caption('Serie de Fourier')\n",
    "screen = pygame.display.set_mode((Width,Height))\n",
    "clock = pygame.time.Clock()"
   ]
  },
  {
   "cell_type": "code",
   "execution_count": 5,
   "metadata": {},
   "outputs": [],
   "source": [
    "# Correo Simulacion\n",
    "\n",
    "FList = []\n",
    "\n",
    "run = True\n",
    "\n",
    "while run:\n",
    "    clock.tick(fps)\n",
    "    screen.fill(Colors[1])\n",
    "    \n",
    "    # Instruccion de pausa\n",
    "    for event in pygame.event.get():\n",
    "        if(event.type == pygame.QUIT):\n",
    "            run = False\n",
    "    \n",
    "    # El primer circulo\n",
    "    x = Xc\n",
    "    y = Yc\n",
    "    \n",
    "    for i in range(NCircles):\n",
    "        \n",
    "        xp = x\n",
    "        yp = y\n",
    "        \n",
    "        n = 2 * i + 1 # Tomar solo impares\n",
    "        \n",
    "        radio = 100*(4/(n*np.pi))\n",
    "        radio = 200*(8/(n*np.pi)**2)\n",
    "        \n",
    "        x += int( radio*np.cos(n*omega*time) )\n",
    "        y += int( radio*np.sin(n*omega*time) )\n",
    "        \n",
    "        pygame.draw.circle(screen, Colors[0], (xp,yp), int(radio), 2)\n",
    "        pygame.draw.line(screen, Colors[2], (xp,yp), (x,y), 2)\n",
    "    \n",
    "    FList.insert(0,x)\n",
    "    if len(FList) > 1000:\n",
    "        FList.pop()\n",
    "    \n",
    "    pygame.draw.line(screen, Colors[0], (x,y), (xp + offset, FList[0]),2)\n",
    "    \n",
    "    for index in range(len(FList)):\n",
    "        pygame.draw.circle(screen, Colors[3], (index + xp + offset, FList[index]),2)\n",
    "    \n",
    "    \n",
    "    time += 0.01\n",
    "    pygame.display.update()\n",
    "    \n",
    "pygame.quit()"
   ]
  },
  {
   "cell_type": "code",
   "execution_count": null,
   "metadata": {},
   "outputs": [],
   "source": []
  }
 ],
 "metadata": {
  "kernelspec": {
   "display_name": "Python 3",
   "language": "python",
   "name": "python3"
  },
  "language_info": {
   "codemirror_mode": {
    "name": "ipython",
    "version": 2
   },
   "file_extension": ".py",
   "mimetype": "text/x-python",
   "name": "python",
   "nbconvert_exporter": "python",
   "pygments_lexer": "ipython2",
   "version": "2.7.16"
  }
 },
 "nbformat": 4,
 "nbformat_minor": 2
}
