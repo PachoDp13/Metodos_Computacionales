{
 "cells": [
  {
   "cell_type": "code",
   "execution_count": 1,
   "metadata": {},
   "outputs": [],
   "source": [
    "import numpy as np\n",
    "import matplotlib.pyplot as plt\n",
    "from numpy.fft import fft, ifft, fftfreq\n",
    "from scipy.io.wavfile import write, read"
   ]
  },
  {
   "cell_type": "markdown",
   "metadata": {},
   "source": [
    "# Sampling"
   ]
  },
  {
   "cell_type": "code",
   "execution_count": 2,
   "metadata": {},
   "outputs": [],
   "source": [
    "# Definir una frecuencia\n",
    "f = 1\n",
    "fs = 5 # Medidas por segundo"
   ]
  },
  {
   "cell_type": "code",
   "execution_count": 3,
   "metadata": {},
   "outputs": [],
   "source": [
    "t = np.linspace(0.,1.,2*fs, endpoint=False)\n",
    "#print(t)"
   ]
  },
  {
   "cell_type": "code",
   "execution_count": 4,
   "metadata": {},
   "outputs": [],
   "source": [
    "# Señal Periodica\n",
    "x = np.cos(2*np.pi*f*t) + np.cos(4*np.pi*f*t) "
   ]
  },
  {
   "cell_type": "code",
   "execution_count": 5,
   "metadata": {},
   "outputs": [],
   "source": [
    "# Señal No periodica\n",
    "#x = np.sin( np.sqrt(t) )"
   ]
  },
  {
   "cell_type": "code",
   "execution_count": 6,
   "metadata": {},
   "outputs": [
    {
     "data": {
      "text/plain": [
       "Text(0, 0.5, '$tiempo[s]$')"
      ]
     },
     "execution_count": 6,
     "metadata": {},
     "output_type": "execute_result"
    },
    {
     "data": {
      "image/png": "[encoded data removed]",
      "text/plain": [
       "<Figure size 432x288 with 1 Axes>"
      ]
     },
     "metadata": {
      "needs_background": "light"
     },
     "output_type": "display_data"
    }
   ],
   "source": [
    "plt.figure()\n",
    "plt.scatter(t,x, c='black')\n",
    "plt.grid()\n",
    "plt.xlim(0,1.4)\n",
    "plt.xlabel(r'$Amplitud$')\n",
    "plt.ylabel(r'$tiempo[s]$')"
   ]
  },
  {
   "cell_type": "code",
   "execution_count": 7,
   "metadata": {},
   "outputs": [],
   "source": [
    "def GetFFT(x):\n",
    "    \n",
    "    Npoints = len(x)\n",
    "    c = (2.0*np.pi)/Npoints\n",
    "    \n",
    "    fft = []\n",
    "    \n",
    "    for k in range(Npoints):\n",
    "        \n",
    "        Re = 0.\n",
    "        Im = 0.\n",
    "        \n",
    "        for n in range(Npoints):\n",
    "            \n",
    "            Re += x[n]*np.cos( c*k*n )\n",
    "            Im -= x[n]*np.sin( c*k*n )\n",
    "            \n",
    "        fft = np.append(fft, complex(Re,Im))\n",
    "        \n",
    "    return fft"
   ]
  },
  {
   "cell_type": "code",
   "execution_count": 8,
   "metadata": {},
   "outputs": [
    {
     "name": "stdout",
     "output_type": "stream",
     "text": [
      "[-1.33226763e-15+0.00000000e+00j  5.00000000e+00-6.66133815e-16j\n",
      "  5.00000000e+00+4.44089210e-16j -9.99200722e-16-1.33226763e-15j\n",
      "  2.22044605e-16-2.22044605e-16j -4.44089210e-16-1.22464680e-15j\n",
      "  1.44328993e-15-2.22044605e-15j  5.93969318e-15-2.88657986e-15j\n",
      "  5.00000000e+00+3.10862447e-15j  5.00000000e+00+2.44249065e-15j]\n"
     ]
    }
   ],
   "source": [
    "Xw = GetFFT(x)\n",
    "print(Xw)"
   ]
  },
  {
   "cell_type": "code",
   "execution_count": 9,
   "metadata": {},
   "outputs": [
    {
     "name": "stdout",
     "output_type": "stream",
     "text": [
      "[-1.33226763e-15+0.00000000e+00j  5.00000000e+00-1.11022302e-15j\n",
      "  5.00000000e+00-3.66617572e-16j  0.00000000e+00-4.53861057e-16j\n",
      "  2.22044605e-16+3.57096665e-16j -4.99600361e-16+4.43948501e-17j\n",
      "  2.22044605e-16-3.57096665e-16j  3.88578059e-16+5.10716662e-16j\n",
      "  5.00000000e+00+3.66617572e-16j  5.00000000e+00+1.00897257e-15j]\n"
     ]
    }
   ],
   "source": [
    "# FFT de Numpy\n",
    "Xw1 = fft(x)\n",
    "print(Xw1)"
   ]
  },
  {
   "cell_type": "code",
   "execution_count": 10,
   "metadata": {},
   "outputs": [],
   "source": [
    "# Inversa\n",
    "\n",
    "def GetIFFT(x):\n",
    "    \n",
    "    Npoints = len(x)\n",
    "    c = (2.0*np.pi)/Npoints\n",
    "    \n",
    "    ifft = []\n",
    "    \n",
    "    for k in range(Npoints):\n",
    "        \n",
    "        Re = 0.\n",
    "        Im = 0.\n",
    "        \n",
    "        for n in range(Npoints):\n",
    "            \n",
    "            Re += x[n]*np.cos( c*k*n )\n",
    "            Im += x[n]*np.sin( c*k*n )\n",
    "            \n",
    "        ifft = np.append(ifft, complex(Re,Im)/Npoints)\n",
    "        \n",
    "    return ifft"
   ]
  },
  {
   "cell_type": "code",
   "execution_count": 11,
   "metadata": {},
   "outputs": [
    {
     "name": "stdout",
     "output_type": "stream",
     "text": [
      "[ 2.00000000e+00-2.55691443e-16j  1.11803399e+00-9.54295184e-17j\n",
      " -5.00000000e-01+1.06547396e-15j -1.11803399e+00+7.84448088e-16j\n",
      " -5.00000000e-01+1.77295537e-16j  2.66453526e-16+4.77736048e-16j\n",
      " -5.00000000e-01+2.21704458e-16j -1.11803399e+00-1.03730332e-16j\n",
      " -5.00000000e-01-6.22065041e-16j  1.11803399e+00+1.37006487e-15j]\n"
     ]
    }
   ],
   "source": [
    "Xt = GetIFFT(Xw)\n",
    "print(Xt)"
   ]
  },
  {
   "cell_type": "code",
   "execution_count": 12,
   "metadata": {},
   "outputs": [
    {
     "name": "stdout",
     "output_type": "stream",
     "text": [
      "[ 2.        -2.55691443e-16j  1.11803399+1.22464680e-16j\n",
      " -0.5       +9.32108185e-16j -1.11803399+2.88626673e-16j\n",
      " -0.5       -4.16595672e-17j  0.        +4.72092686e-16j\n",
      " -0.5       -1.36656411e-16j -1.11803399-1.61738245e-15j\n",
      " -0.5       -1.11042416e-15j  1.11803399+1.34652181e-15j]\n"
     ]
    }
   ],
   "source": [
    "Xt1 = ifft(Xw)\n",
    "print(Xt1)"
   ]
  },
  {
   "cell_type": "code",
   "execution_count": 13,
   "metadata": {},
   "outputs": [
    {
     "name": "stderr",
     "output_type": "stream",
     "text": [
      "C:\\Users\\AQ01097\\Anaconda3\\lib\\site-packages\\numpy\\core\\_asarray.py:136: ComplexWarning: Casting complex values to real discards the imaginary part\n",
      "  return array(a, dtype, copy=False, order=order, subok=True)\n"
     ]
    },
    {
     "data": {
      "text/plain": [
       "<matplotlib.collections.PathCollection at 0x1674bbf4910>"
      ]
     },
     "execution_count": 13,
     "metadata": {},
     "output_type": "execute_result"
    },
    {
     "data": {
      "image/png": "[encoded data removed]",
      "text/plain": [
       "<Figure size 432x288 with 1 Axes>"
      ]
     },
     "metadata": {
      "needs_background": "light"
     },
     "output_type": "display_data"
    }
   ],
   "source": [
    "plt.figure()\n",
    "plt.scatter(t,x,c='k',s=200)\n",
    "plt.scatter(t,Xt,c='r')\n",
    "plt.scatter(t,Xt1,c='b')"
   ]
  },
  {
   "cell_type": "code",
   "execution_count": 14,
   "metadata": {},
   "outputs": [
    {
     "name": "stdout",
     "output_type": "stream",
     "text": [
      "[ 0.   0.1  0.2  0.3  0.4 -0.5 -0.4 -0.3 -0.2 -0.1]\n"
     ]
    }
   ],
   "source": [
    "# Ver transformada en el espacio de las frecuencias\n",
    "N = len(Xw)\n",
    "frecuencias = np.fft.fftfreq(N)\n",
    "print(frecuencias)"
   ]
  },
  {
   "cell_type": "code",
   "execution_count": 15,
   "metadata": {},
   "outputs": [],
   "source": [
    "# Idea de filtrado\n",
    "mask = frecuencias > 0. # Tomar positivas"
   ]
  },
  {
   "cell_type": "code",
   "execution_count": 16,
   "metadata": {},
   "outputs": [
    {
     "data": {
      "text/plain": [
       "<matplotlib.collections.PathCollection at 0x1674bcc66a0>"
      ]
     },
     "execution_count": 16,
     "metadata": {},
     "output_type": "execute_result"
    },
    {
     "data": {
      "image/png": "[encoded data removed]",
      "text/plain": [
       "<Figure size 432x288 with 1 Axes>"
      ]
     },
     "metadata": {
      "needs_background": "light"
     },
     "output_type": "display_data"
    }
   ],
   "source": [
    "plt.scatter(frecuencias[mask], np.abs(Xw[mask])/N)"
   ]
  },
  {
   "cell_type": "markdown",
   "metadata": {},
   "source": [
    "# Señal armónica"
   ]
  },
  {
   "cell_type": "code",
   "execution_count": 17,
   "metadata": {},
   "outputs": [],
   "source": [
    "# https://docs.scipy.org/doc/scipy/reference/generated/scipy.io.wavfile.read.html\n",
    "# Wav format : 16-bit PCM\n",
    "# min value: -32768\n",
    "# max value: +32767\n",
    "# numpy dtype: int16"
   ]
  },
  {
   "cell_type": "code",
   "execution_count": 18,
   "metadata": {},
   "outputs": [],
   "source": [
    "# f = 440   # Do\n",
    "f = 330  # Mi\n",
    "fs = 44100 \n",
    "Amax = 32767"
   ]
  },
  {
   "cell_type": "code",
   "execution_count": 19,
   "metadata": {},
   "outputs": [],
   "source": [
    "t = np.linspace(0,7,2*fs, endpoint=False)\n",
    "x = np.sin(2.*np.pi*f*t)"
   ]
  },
  {
   "cell_type": "code",
   "execution_count": 20,
   "metadata": {},
   "outputs": [
    {
     "name": "stdout",
     "output_type": "stream",
     "text": [
      "2073.4511513692632\n"
     ]
    }
   ],
   "source": [
    "print(2*np.pi*f)"
   ]
  },
  {
   "cell_type": "code",
   "execution_count": 21,
   "metadata": {},
   "outputs": [
    {
     "name": "stdout",
     "output_type": "stream",
     "text": [
      "-32767 32767\n"
     ]
    }
   ],
   "source": [
    "scaled = np.int16( x*Amax)\n",
    "print(scaled.min(), scaled.max())"
   ]
  },
  {
   "cell_type": "code",
   "execution_count": 22,
   "metadata": {},
   "outputs": [],
   "source": [
    "write('Do.wav', 44100, scaled)"
   ]
  },
  {
   "cell_type": "code",
   "execution_count": 23,
   "metadata": {},
   "outputs": [],
   "source": [
    "# Queremos ver esta nota musical en el espectro de frecuencias\n",
    "\n",
    "Xw = fft(x)\n",
    "\n",
    "Xw = Xw * 2 / len(x)\n",
    "\n",
    "freqs = fftfreq(len(x))*fs\n",
    "\n",
    "mask = freqs  >= 0"
   ]
  },
  {
   "cell_type": "code",
   "execution_count": 24,
   "metadata": {},
   "outputs": [
    {
     "data": {
      "text/plain": [
       "<matplotlib.collections.PathCollection at 0x1674bcd8f10>"
      ]
     },
     "execution_count": 24,
     "metadata": {},
     "output_type": "execute_result"
    },
    {
     "data": {
      "image/png": "[encoded data removed]",
      "text/plain": [
       "<Figure size 432x288 with 1 Axes>"
      ]
     },
     "metadata": {
      "needs_background": "light"
     },
     "output_type": "display_data"
    }
   ],
   "source": [
    "fig, ax = plt.subplots()\n",
    "ax.scatter(freqs[mask], np.abs(Xw[mask]))"
   ]
  },
  {
   "cell_type": "markdown",
   "metadata": {},
   "source": [
    "## Señal mezclada"
   ]
  },
  {
   "cell_type": "code",
   "execution_count": 45,
   "metadata": {},
   "outputs": [
    {
     "name": "stdout",
     "output_type": "stream",
     "text": [
      "[ 660.  990. 1320. 2640. 3960.]\n"
     ]
    }
   ],
   "source": [
    "f0 = 330\n",
    "fs = 44100 # Sampling rate\n",
    "\n",
    "# Superponer varias señales\n",
    "f = np.array([2.,3.,4.,8.,12.])\n",
    "f *= f0\n",
    "Amp = np.array([0.3,0.4,0.2,0.2,0.1])\n",
    "print(f)"
   ]
  },
  {
   "cell_type": "code",
   "execution_count": 26,
   "metadata": {},
   "outputs": [],
   "source": [
    "t = np.linspace(0.,2.,2*fs, endpoint=False)\n",
    "x = np.sin( 2.*np.pi*f0*t ) # Frecuencia fundamental\n",
    "\n",
    "for i in range(len(f)):\n",
    "    x += Amp[i]*np.sin(2.*np.pi*f[i]*t)"
   ]
  },
  {
   "cell_type": "code",
   "execution_count": 27,
   "metadata": {},
   "outputs": [
    {
     "data": {
      "text/plain": [
       "(0.0, 0.0125)"
      ]
     },
     "execution_count": 27,
     "metadata": {},
     "output_type": "execute_result"
    },
    {
     "data": {
      "image/png": "[encoded data removed]",
      "text/plain": [
       "<Figure size 432x288 with 1 Axes>"
      ]
     },
     "metadata": {
      "needs_background": "light"
     },
     "output_type": "display_data"
    }
   ],
   "source": [
    "fig, ax = plt.subplots()\n",
    "ax.plot(t, x)\n",
    "ax.set_xlabel('t[s]')\n",
    "ax.set_ylabel('Amplitud[m]')\n",
    "ax.set_xlim(0,1./80.)"
   ]
  },
  {
   "cell_type": "code",
   "execution_count": 28,
   "metadata": {},
   "outputs": [],
   "source": [
    "scaled = np.int16( x*Amax/np.max(np.abs(x)) )\n",
    "write('Test_MixSignal.wav', 44100, scaled)"
   ]
  },
  {
   "cell_type": "code",
   "execution_count": 29,
   "metadata": {},
   "outputs": [],
   "source": [
    "X = fft(x)\n",
    "X = X * 2 /len(x)\n",
    "frecuencias = fftfreq(len(x))*fs\n",
    "\n",
    "\n",
    "# Aplicando las mascaras\n",
    "\n",
    "mask = freqs < 3000"
   ]
  },
  {
   "cell_type": "code",
   "execution_count": 30,
   "metadata": {},
   "outputs": [
    {
     "data": {
      "text/plain": [
       "<matplotlib.legend.Legend at 0x1674bd86fd0>"
      ]
     },
     "execution_count": 30,
     "metadata": {},
     "output_type": "execute_result"
    },
    {
     "data": {
      "image/png": "[encoded data removed]",
      "text/plain": [
       "<Figure size 432x288 with 1 Axes>"
      ]
     },
     "metadata": {
      "needs_background": "light"
     },
     "output_type": "display_data"
    }
   ],
   "source": [
    "fig, ax = plt.subplots()\n",
    "ax.scatter(frecuencias[mask], np.absolute(X[mask]), c=\"b\", label=\"Mixed\", marker=\"+\")\n",
    "ax.legend(loc=0)\n",
    "#ax.set_xlim(0,fs/2)"
   ]
  },
  {
   "cell_type": "code",
   "execution_count": 31,
   "metadata": {},
   "outputs": [],
   "source": [
    "x = np.random.uniform(-1., 1., fs * 2)\n",
    "scaled = np.int16(x*Amax)\n",
    "write('Test_CosmicMicroBackground.wav', 44100, scaled)"
   ]
  },
  {
   "cell_type": "code",
   "execution_count": 32,
   "metadata": {},
   "outputs": [],
   "source": [
    "X = fft(x)\n",
    "X = X * 2 /len(x)\n",
    "frecuencias = fftfreq(len(x))*fs\n",
    "\n",
    "mask = frecuencias >= 0"
   ]
  },
  {
   "cell_type": "code",
   "execution_count": 33,
   "metadata": {},
   "outputs": [
    {
     "data": {
      "text/plain": [
       "Text(0, 0.5, 'Frequency Domain (Spectrum) Magnitude')"
      ]
     },
     "execution_count": 33,
     "metadata": {},
     "output_type": "execute_result"
    },
    {
     "data": {
      "image/png": "[encoded data removed]",
      "text/plain": [
       "<Figure size 432x288 with 1 Axes>"
      ]
     },
     "metadata": {
      "needs_background": "light"
     },
     "output_type": "display_data"
    }
   ],
   "source": [
    "fig, ax = plt.subplots()\n",
    "ax.scatter(frecuencias[mask], np.absolute(X[mask]), c=\"b\", label=\"CosmicMicro\", marker=\"+\")\n",
    "ax.legend(loc=0)\n",
    "\n",
    "ax.set_title('Power Spectrum')\n",
    "ax.set_xlabel('Frequency in Hertz [Hz]')\n",
    "ax.set_ylabel('Frequency Domain (Spectrum) Magnitude')\n",
    "#ax.set_xlim(0, fs/2)\n",
    "#ax.set_ylim(0, 0.02)"
   ]
  },
  {
   "cell_type": "code",
   "execution_count": 34,
   "metadata": {},
   "outputs": [
    {
     "name": "stdout",
     "output_type": "stream",
     "text": [
      "16000 49600 0.3225806451612903\n"
     ]
    }
   ],
   "source": [
    "ratedo, do = read('data/Do.wav')\n",
    "print(ratedo, do.shape[0], ratedo/float(do.shape[0]))"
   ]
  },
  {
   "cell_type": "code",
   "execution_count": 46,
   "metadata": {},
   "outputs": [
    {
     "name": "stdout",
     "output_type": "stream",
     "text": [
      "[ 16  10  12 ... -99 -95 -89]\n",
      "(-488.0395129060185+24.934773780006864j)\n"
     ]
    }
   ],
   "source": [
    "# non-negative frecuencies\n",
    "fftdo = np.fft.rfft(do)\n",
    "print(do)\n",
    "print(fftdo[3])"
   ]
  },
  {
   "cell_type": "code",
   "execution_count": 36,
   "metadata": {},
   "outputs": [],
   "source": [
    "# Vamos a calcular las frecuencias\n",
    "Frecuenciasdo = np.arange(0, do.shape[0]//2 + 1)*ratedo/float(do.shape[0])"
   ]
  },
  {
   "cell_type": "code",
   "execution_count": 37,
   "metadata": {},
   "outputs": [
    {
     "data": {
      "text/plain": [
       "[<matplotlib.lines.Line2D at 0x1674bf98d60>]"
      ]
     },
     "execution_count": 37,
     "metadata": {},
     "output_type": "execute_result"
    },
    {
     "data": {
      "image/png": "[encoded data removed]",
      "text/plain": [
       "<Figure size 432x288 with 1 Axes>"
      ]
     },
     "metadata": {
      "needs_background": "light"
     },
     "output_type": "display_data"
    }
   ],
   "source": [
    "plt.plot(Frecuenciasdo, np.abs(fftdo))"
   ]
  },
  {
   "cell_type": "code",
   "execution_count": 38,
   "metadata": {},
   "outputs": [],
   "source": [
    "mask = Frecuenciasdo > 1000 "
   ]
  },
  {
   "cell_type": "code",
   "execution_count": 39,
   "metadata": {},
   "outputs": [],
   "source": [
    "#ii = np.argmax(fftdo)"
   ]
  },
  {
   "cell_type": "code",
   "execution_count": 40,
   "metadata": {},
   "outputs": [],
   "source": [
    "#ii_A = np.abs(Frecuenciasdo) > (Frecuenciasdo[ii])\n",
    "#ii_B = np.abs(Frecuenciasdo) < (Frecuenciasdo[ii])"
   ]
  },
  {
   "cell_type": "code",
   "execution_count": 41,
   "metadata": {},
   "outputs": [],
   "source": [
    "# Hacer todos armonicos igual a 0\n",
    "#fftdo[ii_A | ii_B ] = 0"
   ]
  },
  {
   "cell_type": "code",
   "execution_count": 42,
   "metadata": {},
   "outputs": [
    {
     "data": {
      "text/plain": [
       "[<matplotlib.lines.Line2D at 0x1674bf03f40>]"
      ]
     },
     "execution_count": 42,
     "metadata": {},
     "output_type": "execute_result"
    },
    {
     "data": {
      "image/png": "[encoded data removed]",
      "text/plain": [
       "<Figure size 432x288 with 1 Axes>"
      ]
     },
     "metadata": {
      "needs_background": "light"
     },
     "output_type": "display_data"
    }
   ],
   "source": [
    "plt.plot(Frecuenciasdo[mask], np.abs(fftdo[mask]))"
   ]
  },
  {
   "cell_type": "code",
   "execution_count": 43,
   "metadata": {},
   "outputs": [],
   "source": [
    "NewDo = np.fft.irfft(fftdo[mask])\n",
    "NewDo = NewDo.astype(np.int16)"
   ]
  },
  {
   "cell_type": "code",
   "execution_count": 44,
   "metadata": {},
   "outputs": [],
   "source": [
    "write('DoRemasterizado',ratedo,NewDo)"
   ]
  },
  {
   "cell_type": "code",
   "execution_count": null,
   "metadata": {},
   "outputs": [],
   "source": []
  }
 ],
 "metadata": {
  "kernelspec": {
   "display_name": "Python 3",
   "language": "python",
   "name": "python3"
  },
  "language_info": {
   "codemirror_mode": {
    "name": "ipython",
    "version": 3
   },
   "file_extension": ".py",
   "mimetype": "text/x-python",
   "name": "python",
   "nbconvert_exporter": "python",
   "pygments_lexer": "ipython3",
   "version": "3.8.5"
  }
 },
 "nbformat": 4,
 "nbformat_minor": 2
}
