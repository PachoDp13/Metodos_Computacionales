{
 "cells": [
  {
   "cell_type": "code",
   "execution_count": 1,
   "metadata": {},
   "outputs": [],
   "source": [
    "import numpy as np\n",
    "import matplotlib.pyplot as plt\n",
    "from matplotlib import rc"
   ]
  },
  {
   "cell_type": "code",
   "execution_count": 2,
   "metadata": {},
   "outputs": [],
   "source": [
    "def Function(x):\n",
    "    return np.sin(x)"
   ]
  },
  {
   "cell_type": "code",
   "execution_count": 3,
   "metadata": {},
   "outputs": [],
   "source": [
    "xi, xf, Npoints = 0.,0.5*np.pi , 10\n",
    "X= np.linspace(xi, xf, Npoints+1)\n",
    "Y= Function(X)"
   ]
  },
  {
   "cell_type": "code",
   "execution_count": 4,
   "metadata": {},
   "outputs": [
    {
     "data": {
      "text/plain": [
       "<matplotlib.collections.PathCollection at 0x1acd9615e20>"
      ]
     },
     "execution_count": 4,
     "metadata": {},
     "output_type": "execute_result"
    },
    {
     "data": {
      "image/png": "[encoded data removed]",
      "text/plain": [
       "<Figure size 432x288 with 1 Axes>"
      ]
     },
     "metadata": {
      "needs_background": "light"
     },
     "output_type": "display_data"
    }
   ],
   "source": [
    "plt.plot(X,Y, label='f(x)')\n",
    "plt.scatter(X,Y,c='r')"
   ]
  },
  {
   "cell_type": "markdown",
   "metadata": {},
   "source": [
    "# Implementar el trapecio"
   ]
  },
  {
   "cell_type": "code",
   "execution_count": 5,
   "metadata": {},
   "outputs": [],
   "source": [
    "def TrapezeMethod(f,X):\n",
    "    h=(X[-1]-X[0])/(len(X)-1)\n",
    "    \n",
    "    integral = 0.\n",
    "    \n",
    "    integral += 0.5*(f(X[0])+f(X[-1]))\n",
    "    \n",
    "    #for i in X[1:-1]:\n",
    "     #   integral += f(i)\n",
    "        \n",
    "    integral += np.sum(f(X[1:-1]))   \n",
    "    integral*= h\n",
    "    return integral, h\n",
    "    "
   ]
  },
  {
   "cell_type": "code",
   "execution_count": 6,
   "metadata": {},
   "outputs": [
    {
     "name": "stdout",
     "output_type": "stream",
     "text": [
      "0.9979429863543572 0.15707963267948966 0.024674011002723394\n"
     ]
    }
   ],
   "source": [
    "Integral, h = TrapezeMethod(Function,X)\n",
    "print(Integral, h, h**2)"
   ]
  },
  {
   "cell_type": "code",
   "execution_count": 7,
   "metadata": {},
   "outputs": [],
   "source": [
    "def dFunction(f, x, h):\n",
    "    \n",
    "    d= 0\n",
    "    \n",
    "    if(h!= 0):\n",
    "        d= (f(x+h)-2*f(x)+f(x-h))/ h**2\n",
    "    return d"
   ]
  },
  {
   "cell_type": "code",
   "execution_count": 8,
   "metadata": {},
   "outputs": [],
   "source": [
    "D2Y= dFunction(Function, X, 0.0001)"
   ]
  },
  {
   "cell_type": "code",
   "execution_count": 9,
   "metadata": {},
   "outputs": [
    {
     "data": {
      "text/plain": [
       "[<matplotlib.lines.Line2D at 0x1acd971bee0>]"
      ]
     },
     "execution_count": 9,
     "metadata": {},
     "output_type": "execute_result"
    },
    {
     "data": {
      "image/png": "[encoded data removed]",
      "text/plain": [
       "<Figure size 432x288 with 1 Axes>"
      ]
     },
     "metadata": {
      "needs_background": "light"
     },
     "output_type": "display_data"
    }
   ],
   "source": [
    "plt.plot(X,D2Y,'b')"
   ]
  },
  {
   "cell_type": "code",
   "execution_count": 10,
   "metadata": {},
   "outputs": [
    {
     "name": "stdout",
     "output_type": "stream",
     "text": [
      "0.999999993922529\n"
     ]
    }
   ],
   "source": [
    "max_= np.max(np.abs(D2Y))\n",
    "print(max_)"
   ]
  },
  {
   "cell_type": "code",
   "execution_count": 11,
   "metadata": {},
   "outputs": [],
   "source": [
    "def ErrorTraMethod(X,D2Y):\n",
    "    \n",
    "    max_= np.max(np.abs(D2Y))\n",
    "    \n",
    "    error = (((X[-1]-X[0])**3)*max_)/(12.*(len(X)-1)**3)\n",
    "    return error"
   ]
  },
  {
   "cell_type": "code",
   "execution_count": 12,
   "metadata": {},
   "outputs": [
    {
     "name": "stdout",
     "output_type": "stream",
     "text": [
      "0.00032298204679020906\n"
     ]
    }
   ],
   "source": [
    "Error = ErrorTraMethod(X,D2Y)\n",
    "print (Error)"
   ]
  },
  {
   "cell_type": "markdown",
   "metadata": {},
   "source": [
    "$$I = 0.997 \\pm 0.003$$"
   ]
  },
  {
   "cell_type": "markdown",
   "metadata": {},
   "source": [
    "# Implementos Simpson"
   ]
  },
  {
   "cell_type": "code",
   "execution_count": 13,
   "metadata": {},
   "outputs": [],
   "source": [
    "def SimpsonMethod(f,X):\n",
    "    h=(X[-1]-X[0])/(len(X)-1)\n",
    "    \n",
    "    integral = 0.\n",
    "    \n",
    "    integral += f(X[0])+f(X[-1])\n",
    "\n",
    "    for i in range(len(X[1:-1])):\n",
    "        if i%2 == 0:\n",
    "            integral += 4.*(f(X[i+1]))\n",
    "        else:\n",
    "            integral += 2.*(f(X[i+1]))\n",
    "\n",
    "   \n",
    "    integral*= h/3\n",
    "    \n",
    "    return integral, h\n",
    "    "
   ]
  },
  {
   "cell_type": "code",
   "execution_count": 14,
   "metadata": {},
   "outputs": [
    {
     "name": "stdout",
     "output_type": "stream",
     "text": [
      "1.0000033922209004 0.15707963267948966 0.0006088068189625151\n"
     ]
    }
   ],
   "source": [
    "Integral, h = SimpsonMethod(Function,X)\n",
    "print(Integral, h, h**4)"
   ]
  },
  {
   "cell_type": "code",
   "execution_count": 15,
   "metadata": {},
   "outputs": [],
   "source": [
    "def D4(f,x,h):\n",
    "    \n",
    "    d = 0.\n",
    "    \n",
    "    if (h!= 0):\n",
    "        d = (f(x+2*h)-4*f(x+h)+6*f(x)-4*f(x-h)+f(x-2*h))/(h**4)\n",
    "        \n",
    "    return d"
   ]
  },
  {
   "cell_type": "code",
   "execution_count": 16,
   "metadata": {},
   "outputs": [],
   "source": [
    "D4Y= D4(Function, X, h)"
   ]
  },
  {
   "cell_type": "code",
   "execution_count": 17,
   "metadata": {},
   "outputs": [
    {
     "data": {
      "text/plain": [
       "[<matplotlib.lines.Line2D at 0x1acd978b8e0>]"
      ]
     },
     "execution_count": 17,
     "metadata": {},
     "output_type": "execute_result"
    },
    {
     "data": {
      "image/png": "[encoded data removed]",
      "text/plain": [
       "<Figure size 432x288 with 1 Axes>"
      ]
     },
     "metadata": {
      "needs_background": "light"
     },
     "output_type": "display_data"
    }
   ],
   "source": [
    "plt.plot(X,D4Y,'b')"
   ]
  },
  {
   "cell_type": "code",
   "execution_count": 18,
   "metadata": {},
   "outputs": [],
   "source": [
    "def ErrorSimpMethod(X,D4Y):\n",
    "    \n",
    "    max_= np.max(np.abs(D4Y))\n",
    "    \n",
    "    error = (((X[-1]-X[0])*h**4)*max_)/(180.)\n",
    "    return error"
   ]
  },
  {
   "cell_type": "code",
   "execution_count": 19,
   "metadata": {},
   "outputs": [
    {
     "name": "stdout",
     "output_type": "stream",
     "text": [
      "5.291033950123434e-06\n"
     ]
    }
   ],
   "source": [
    "Error = ErrorSimpMethod(X,D4Y)\n",
    "print (Error)"
   ]
  },
  {
   "cell_type": "markdown",
   "metadata": {},
   "source": [
    "$$I = 1.000003\\pm 0.000005$$"
   ]
  }
 ],
 "metadata": {
  "kernelspec": {
   "display_name": "Python 3",
   "language": "python",
   "name": "python3"
  },
  "language_info": {
   "codemirror_mode": {
    "name": "ipython",
    "version": 3
   },
   "file_extension": ".py",
   "mimetype": "text/x-python",
   "name": "python",
   "nbconvert_exporter": "python",
   "pygments_lexer": "ipython3",
   "version": "3.8.5"
  }
 },
 "nbformat": 4,
 "nbformat_minor": 4
}
