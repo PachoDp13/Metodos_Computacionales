{
 "cells": [
  {
   "cell_type": "code",
   "execution_count": 1,
   "metadata": {},
   "outputs": [],
   "source": [
    "import numpy             as np\n",
    "import matplotlib.pyplot as plt\n",
    "from matplotlib          import rc \n",
    "from tqdm import tqdm"
   ]
  },
  {
   "cell_type": "markdown",
   "metadata": {},
   "source": [
    "Queremos calcular el segundo momento de la distribución usando el método de Montecarlo.\n",
    "$$ x \\sim exp(4) $$ \n",
    "$$ f(x) = \\frac{1}{4}e^{\\frac{-x}{4}} $$  \n",
    "$$ E(x^{2}) = \\int_{0}^{\\infty}\\frac{1}{4} x^{2} e^{\\frac{-x}{4}} dx = 32$$\n",
    "\n",
    "Hacer cambio de variable $y = \\frac{1}{1+x}$"
   ]
  },
  {
   "cell_type": "code",
   "execution_count": 2,
   "metadata": {},
   "outputs": [],
   "source": [
    "def FunctionExp(y):\n",
    "    \n",
    "    if(y.any() != 0):\n",
    "        return ( (1/y -1)**2*np.exp( -(1/y-1)/4 ) )/(4*y**2)\n",
    "    else:\n",
    "        return 0\n",
    "    \n",
    "def IntegralExacta():\n",
    "    return 32."
   ]
  },
  {
   "cell_type": "code",
   "execution_count": 3,
   "metadata": {},
   "outputs": [],
   "source": [
    "def MCIntegral(N = 100):\n",
    "    \n",
    "    x = np.random.rand(N)\n",
    "    \n",
    "    return np.average(FunctionExp(x))"
   ]
  },
  {
   "cell_type": "code",
   "execution_count": 4,
   "metadata": {},
   "outputs": [
    {
     "name": "stdout",
     "output_type": "stream",
     "text": [
      "31.99322377164569\n"
     ]
    }
   ],
   "source": [
    "Integral = MCIntegral(N = 100000)\n",
    "print(Integral)"
   ]
  },
  {
   "cell_type": "code",
   "execution_count": 5,
   "metadata": {},
   "outputs": [
    {
     "name": "stdout",
     "output_type": "stream",
     "text": [
      "[    100     372    1389    5179   19306   71968  268269 1000000]\n"
     ]
    }
   ],
   "source": [
    "n_intentos = 8\n",
    "puntos = np.int_(np.logspace(2,6,n_intentos))\n",
    "print(puntos)"
   ]
  },
  {
   "cell_type": "code",
   "execution_count": 6,
   "metadata": {},
   "outputs": [
    {
     "name": "stdout",
     "output_type": "stream",
     "text": [
      "[0.46490533 0.16694263 0.06278604 0.01541671 0.01263111 0.00956666\n",
      " 0.00192666 0.0013599 ]\n"
     ]
    }
   ],
   "source": [
    "error = np.zeros(n_intentos)\n",
    "\n",
    "\n",
    "for i in range(n_intentos):\n",
    "    a = IntegralExacta()\n",
    "    b = MCIntegral(N = puntos[i])\n",
    "    error[i] = np.abs( (a-b)/a )\n",
    "    \n",
    "print(error)"
   ]
  },
  {
   "cell_type": "code",
   "execution_count": 7,
   "metadata": {},
   "outputs": [
    {
     "data": {
      "image/png": "[encoded data removed]",
      "text/plain": [
       "<Figure size 432x288 with 1 Axes>"
      ]
     },
     "metadata": {
      "needs_background": "light"
     },
     "output_type": "display_data"
    }
   ],
   "source": [
    "plt.plot(puntos,error)\n",
    "plt.yscale('log')"
   ]
  },
  {
   "cell_type": "markdown",
   "metadata": {},
   "source": [
    "En general es posible utilizar los puntos muestrales que siguen una dsitribución $g(x)$ para integrar una función $f(x)$. La siguiente aproximación de satisface:\n",
    "\n",
    "$$ \\frac{\\int g(x)f(x)dx}{\\int g(x)dx} = < f(x) > \\approx \\frac{1}{N} \\sum_{i=1}^{N} f(x_{i}) $$,"
   ]
  },
  {
   "cell_type": "code",
   "execution_count": 8,
   "metadata": {},
   "outputs": [
    {
     "name": "stdout",
     "output_type": "stream",
     "text": [
      "31.91867636597045\n"
     ]
    }
   ],
   "source": [
    "def Function(x):\n",
    "    return x**2\n",
    "\n",
    "def WeightedIntegral(N=1000, alpha=6):\n",
    "    \n",
    "    x = np.random.exponential(alpha,size=int(N))\n",
    "    return np.average(Function(x))\n",
    "\n",
    "print(WeightedIntegral(N=1e6,alpha=4))"
   ]
  },
  {
   "cell_type": "markdown",
   "metadata": {},
   "source": [
    "Calcular la integral $\\int_{0}^{\\frac{\\pi}{2}} xsin(x) dx$, notar los límites de integración!"
   ]
  },
  {
   "cell_type": "code",
   "execution_count": 9,
   "metadata": {},
   "outputs": [],
   "source": [
    "def f(x):\n",
    "    return x*np.sin(x)"
   ]
  },
  {
   "cell_type": "code",
   "execution_count": 10,
   "metadata": {},
   "outputs": [],
   "source": [
    "def MCIntegral( N = 100 ):\n",
    "    \n",
    "    x = np.random.rand(int(N))*0.5*np.pi\n",
    "    \n",
    "    a = 0.\n",
    "    b = 0.5*np.pi\n",
    "\n",
    "    #return  (b-a)*np.average(f(x))\n",
    "    return  (b-a)*np.sum(f(x))/N"
   ]
  },
  {
   "cell_type": "code",
   "execution_count": 11,
   "metadata": {},
   "outputs": [
    {
     "name": "stdout",
     "output_type": "stream",
     "text": [
      "0.9998100568090297\n"
     ]
    }
   ],
   "source": [
    "print(MCIntegral(N=1e6))"
   ]
  },
  {
   "cell_type": "markdown",
   "metadata": {},
   "source": [
    "$$ \\frac{1}{N} \\sum_{i=1}^{N} f(x_{i}) = \\frac{1}{b-a}\\int_{a}^{b}f(x)dx $$"
   ]
  },
  {
   "cell_type": "markdown",
   "metadata": {},
   "source": [
    "# Método de aceptación y rechazo"
   ]
  },
  {
   "cell_type": "code",
   "execution_count": 12,
   "metadata": {},
   "outputs": [],
   "source": [
    "a = 0.7\n",
    "b = np.pi\n",
    "\n",
    "Part = 150\n",
    "\n",
    "x = np.linspace(a,b,Part)\n",
    "\n",
    "def f(x):\n",
    "    y = 0.5*np.sin(x)\n",
    "    return y"
   ]
  },
  {
   "cell_type": "code",
   "execution_count": 13,
   "metadata": {},
   "outputs": [
    {
     "data": {
      "text/plain": [
       "(0.0, 3.141592653589793)"
      ]
     },
     "execution_count": 13,
     "metadata": {},
     "output_type": "execute_result"
    },
    {
     "data": {
      "image/png": "[encoded data removed]",
      "text/plain": [
       "<Figure size 432x288 with 1 Axes>"
      ]
     },
     "metadata": {
      "needs_background": "light"
     },
     "output_type": "display_data"
    }
   ],
   "source": [
    "plt.plot(x,f(x),'r')\n",
    "plt.xlim(0,b)"
   ]
  },
  {
   "cell_type": "markdown",
   "metadata": {},
   "source": [
    "Generamos un punto $x_{i}$ de una distribución uniforme entre $a$ y $b$, para cada $x_{i}$, generamos un $y_{i}$ de una distribución uniforme entre 0 y el máximo de $f(x)$, nos preguntamos si $y_{i} < f(x_{i})$; si es verdadero incluimos el valor $x_{i}$ en la lista."
   ]
  },
  {
   "cell_type": "code",
   "execution_count": 14,
   "metadata": {},
   "outputs": [],
   "source": [
    "Npoints = 5e5\n",
    "\n",
    "Ninside = 0\n",
    "Ntrials = 0\n",
    "\n",
    "lista = []\n",
    "\n",
    "Max_ = 0.5\n",
    "\n",
    "X = []\n",
    "Y = []\n",
    "\n",
    "Xa = []\n",
    "Ya = []\n",
    "\n",
    "while Ntrials < Npoints:\n",
    "    \n",
    "    xi = a+(b-a)*np.random.rand()\n",
    "    \n",
    "    yi = np.random.rand() * Max_\n",
    "    \n",
    "    X.append(xi)\n",
    "    Y.append(yi)\n",
    "    \n",
    "    Ntrials +=1\n",
    "    \n",
    "    if yi < f(xi):\n",
    "        \n",
    "        Ninside +=1 \n",
    "        lista.append(xi)\n",
    "        Xa.append(xi)\n",
    "        Ya.append(yi)\n",
    "    "
   ]
  },
  {
   "cell_type": "code",
   "execution_count": 15,
   "metadata": {},
   "outputs": [],
   "source": [
    "#plt.scatter(X,Y,color='b',alpha=0.3)\n",
    "#plt.scatter(Xa,Ya,color='r')"
   ]
  },
  {
   "cell_type": "code",
   "execution_count": 16,
   "metadata": {},
   "outputs": [
    {
     "name": "stdout",
     "output_type": "stream",
     "text": [
      "0.8826210947167885 0.722988\n"
     ]
    }
   ],
   "source": [
    "Eff = Ninside/float(Ntrials)\n",
    "I = Max_*Eff*(b-a)\n",
    "print(I,Eff)"
   ]
  },
  {
   "cell_type": "code",
   "execution_count": 17,
   "metadata": {},
   "outputs": [],
   "source": [
    "#plt.hist(lista,bins=x,density=True)\n",
    "#plt.xlim(0,b)"
   ]
  },
  {
   "cell_type": "code",
   "execution_count": 18,
   "metadata": {},
   "outputs": [
    {
     "name": "stdout",
     "output_type": "stream",
     "text": [
      "150 361494\n"
     ]
    }
   ],
   "source": [
    "H1, bines = np.histogram(lista,bins=x)\n",
    "w = np.diff(bines)\n",
    "print(len(bines),len(lista))"
   ]
  },
  {
   "cell_type": "code",
   "execution_count": 19,
   "metadata": {},
   "outputs": [
    {
     "data": {
      "image/png": "[encoded data removed]",
      "text/plain": [
       "<Figure size 432x288 with 1 Axes>"
      ]
     },
     "metadata": {
      "needs_background": "light"
     },
     "output_type": "display_data"
    }
   ],
   "source": [
    "plt.bar(bines[:-1],H1,width=w,ec='k')\n",
    "plt.xlim(0,b)\n",
    "plt.plot(x,f(x),'r')\n",
    "plt.grid()\n",
    "plt.show()"
   ]
  },
  {
   "cell_type": "code",
   "execution_count": 20,
   "metadata": {},
   "outputs": [
    {
     "name": "stdout",
     "output_type": "stream",
     "text": [
      "5923.631508166365\n",
      "0.01638652787644157\n"
     ]
    }
   ],
   "source": [
    "print(np.sum(H1*w)) \n",
    "# Estas es el area del histograma, diferente a las entradas\n",
    "print(w[0])\n",
    "# Este es el ancho de bin"
   ]
  },
  {
   "cell_type": "code",
   "execution_count": 21,
   "metadata": {},
   "outputs": [
    {
     "name": "stdout",
     "output_type": "stream",
     "text": [
      "5923.631508166368\n"
     ]
    }
   ],
   "source": [
    "integral = 0.\n",
    "\n",
    "for i in range(len(H1)):\n",
    "    integral += w[i]*H1[i]\n",
    "    #print(H1[i])\n",
    "print(integral)"
   ]
  },
  {
   "cell_type": "code",
   "execution_count": 22,
   "metadata": {},
   "outputs": [
    {
     "name": "stdout",
     "output_type": "stream",
     "text": [
      "5923.631508166365\n"
     ]
    }
   ],
   "source": [
    "# Normalizar el histograma\n",
    "\n",
    "NormH1 = H1 / (np.sum(H1*w)) * I\n",
    "\n",
    "print(np.sum(H1*w)) # Factor de normalización por bin / area el histograma"
   ]
  },
  {
   "cell_type": "code",
   "execution_count": 23,
   "metadata": {},
   "outputs": [
    {
     "name": "stdout",
     "output_type": "stream",
     "text": [
      "0.8826210947167884\n"
     ]
    }
   ],
   "source": [
    "integral = 0.\n",
    "\n",
    "for i in range(len(NormH1)):\n",
    "    integral += w[i]*NormH1[i]\n",
    "print(integral)"
   ]
  },
  {
   "cell_type": "markdown",
   "metadata": {},
   "source": [
    "En el caso de física de partículas, los histogramas de MonteCarlo se normalizan al número esperado de eventos.\n",
    "\n",
    "$$ N =  \\mathcal{L} \\sigma \\epsilon $$"
   ]
  },
  {
   "cell_type": "code",
   "execution_count": 24,
   "metadata": {},
   "outputs": [
    {
     "data": {
      "image/png": "[encoded data removed]",
      "text/plain": [
       "<Figure size 432x288 with 1 Axes>"
      ]
     },
     "metadata": {
      "needs_background": "light"
     },
     "output_type": "display_data"
    }
   ],
   "source": [
    "plt.bar(bines[:-1],NormH1,width=w,ec='k')\n",
    "plt.xlim(0,b)\n",
    "plt.plot(x,f(x),'r')\n",
    "plt.grid()\n",
    "plt.savefig('MC.png')\n",
    "plt.show()"
   ]
  },
  {
   "cell_type": "code",
   "execution_count": null,
   "metadata": {},
   "outputs": [],
   "source": []
  },
  {
   "cell_type": "code",
   "execution_count": null,
   "metadata": {},
   "outputs": [],
   "source": []
  },
  {
   "cell_type": "code",
   "execution_count": null,
   "metadata": {},
   "outputs": [],
   "source": []
  }
 ],
 "metadata": {
  "kernelspec": {
   "display_name": "Python 3",
   "language": "python",
   "name": "python3"
  },
  "language_info": {
   "codemirror_mode": {
    "name": "ipython",
    "version": 3
   },
   "file_extension": ".py",
   "mimetype": "text/x-python",
   "name": "python",
   "nbconvert_exporter": "python",
   "pygments_lexer": "ipython3",
   "version": "3.8.5"
  }
 },
 "nbformat": 4,
 "nbformat_minor": 2
}
