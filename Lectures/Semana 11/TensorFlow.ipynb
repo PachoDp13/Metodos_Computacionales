{
 "cells": [
  {
   "cell_type": "code",
   "execution_count": 1,
   "metadata": {},
   "outputs": [],
   "source": [
    "import numpy as np \n",
    "import scipy as sc\n",
    "import matplotlib.pyplot as plt\n",
    "from matplotlib import cm\n",
    "import pandas as pd\n",
    "import tensorflow as tf"
   ]
  },
  {
   "cell_type": "code",
   "execution_count": 2,
   "metadata": {},
   "outputs": [],
   "source": [
    "Train = pd.read_csv('data/Set1.csv')"
   ]
  },
  {
   "cell_type": "code",
   "execution_count": 3,
   "metadata": {},
   "outputs": [
    {
     "name": "stdout",
     "output_type": "stream",
     "text": [
      "((100, 2), (100,))\n"
     ]
    }
   ],
   "source": [
    "XTrain = np.array(Train[['PhiNorm','ThetaNorm']])\n",
    "YTrain = Train.Tipo\n",
    "\n",
    "print(XTrain.shape,YTrain.shape)"
   ]
  },
  {
   "cell_type": "markdown",
   "metadata": {},
   "source": [
    "# Definimos la arquitectura..."
   ]
  },
  {
   "cell_type": "code",
   "execution_count": 4,
   "metadata": {},
   "outputs": [
    {
     "name": "stdout",
     "output_type": "stream",
     "text": [
      "(TensorShape([Dimension(None), Dimension(2)]), TensorShape([Dimension(None)]))\n"
     ]
    }
   ],
   "source": [
    "X = tf.placeholder('float', shape=[None, XTrain.shape[1]],name='input1')\n",
    "Y = tf.placeholder('float', shape=[None],name ='input2')\n",
    "\n",
    "print(X.shape,Y.shape)"
   ]
  },
  {
   "cell_type": "code",
   "execution_count": 5,
   "metadata": {},
   "outputs": [],
   "source": [
    "# Neuronas por capa\n",
    "NN = [2,4,6,1]"
   ]
  },
  {
   "cell_type": "code",
   "execution_count": 6,
   "metadata": {},
   "outputs": [],
   "source": [
    "# Capa 1\n",
    "# Variables a optimizar\n",
    "W1 = tf.Variable(  tf.random.normal([NN[0],NN[1]]), name='Weights_1'  )\n",
    "b1 = tf.Variable(  tf.random.normal([NN[1]]), name='Bias_1' )\n",
    "l1 = tf.nn.relu( tf.add(tf.matmul(X,W1),b1) )"
   ]
  },
  {
   "cell_type": "code",
   "execution_count": 7,
   "metadata": {},
   "outputs": [],
   "source": [
    "# Capa 2\n",
    "# Variables a optimizar\n",
    "W2 = tf.Variable(  tf.random.normal([NN[1],NN[2]]), name='Weights_2'  )\n",
    "b2 = tf.Variable(  tf.random.normal([NN[2]]), name='Bias_2' )\n",
    "l2 = tf.nn.relu( tf.add(tf.matmul(l1,W2),b2) )"
   ]
  },
  {
   "cell_type": "code",
   "execution_count": 8,
   "metadata": {},
   "outputs": [],
   "source": [
    "# Capa 2\n",
    "# Variables a optimizar\n",
    "W3 = tf.Variable(  tf.random.normal([NN[2],NN[3]]), name='Weights_3'  )\n",
    "b3 = tf.Variable(  tf.random.normal([NN[3]]), name='Bias_3' )\n",
    "#l3 = tf.nn.relu( tf.add(tf.matmul(l2,W3),b3) )"
   ]
  },
  {
   "cell_type": "code",
   "execution_count": 9,
   "metadata": {},
   "outputs": [],
   "source": [
    "# Salida\n",
    "lout = tf.nn.sigmoid(tf.add( tf.matmul(l2,W3), b3 ))[:,0]"
   ]
  },
  {
   "cell_type": "code",
   "execution_count": 10,
   "metadata": {},
   "outputs": [
    {
     "name": "stdout",
     "output_type": "stream",
     "text": [
      "Tensor(\"strided_slice:0\", shape=(?,), dtype=float32)\n"
     ]
    }
   ],
   "source": [
    "print(lout)"
   ]
  },
  {
   "cell_type": "code",
   "execution_count": 11,
   "metadata": {},
   "outputs": [
    {
     "name": "stdout",
     "output_type": "stream",
     "text": [
      "WARNING:tensorflow:From /home/alejandro/anaconda2/lib/python2.7/site-packages/tensorflow/python/ops/losses/losses_impl.py:121: where (from tensorflow.python.ops.array_ops) is deprecated and will be removed in a future version.\n",
      "Instructions for updating:\n",
      "Use tf.where in 2.0, which has the same broadcast rule as np.where\n"
     ]
    }
   ],
   "source": [
    "# Creamos funcion de costo\n",
    "loss = tf.losses.mean_squared_error(lout,Y)"
   ]
  },
  {
   "cell_type": "code",
   "execution_count": 12,
   "metadata": {},
   "outputs": [],
   "source": [
    "# Creaos un optimizador\n",
    "lr = 0.02\n",
    "optimizer = tf.train.GradientDescentOptimizer(learning_rate = lr).minimize(loss)"
   ]
  },
  {
   "cell_type": "markdown",
   "metadata": {},
   "source": [
    "# Definimos una Sesion"
   ]
  },
  {
   "cell_type": "code",
   "execution_count": 13,
   "metadata": {},
   "outputs": [
    {
     "name": "stdout",
     "output_type": "stream",
     "text": [
      "('Step', 0, '/', 100000, '-loss = ', 0.18995251, '-Acc', 0.81)\n",
      "('Step', 5000, '/', 100000, '-loss = ', 0.18993403, '-Acc', 0.81)\n",
      "('Step', 10000, '/', 100000, '-loss = ', 0.18989538, '-Acc', 0.81)\n",
      "('Step', 15000, '/', 100000, '-loss = ', 0.18977542, '-Acc', 0.81)\n",
      "('Step', 20000, '/', 100000, '-loss = ', 0.18672773, '-Acc', 0.81)\n",
      "('Step', 25000, '/', 100000, '-loss = ', 0.132658, '-Acc', 0.81)\n",
      "('Step', 30000, '/', 100000, '-loss = ', 0.116673335, '-Acc', 0.81)\n",
      "('Step', 35000, '/', 100000, '-loss = ', 0.08198429, '-Acc', 0.87)\n",
      "('Step', 40000, '/', 100000, '-loss = ', 0.07550165, '-Acc', 0.89)\n",
      "('Step', 45000, '/', 100000, '-loss = ', 0.07277003, '-Acc', 0.89)\n",
      "('Step', 50000, '/', 100000, '-loss = ', 0.07072741, '-Acc', 0.91)\n",
      "('Step', 55000, '/', 100000, '-loss = ', 0.06942302, '-Acc', 0.91)\n",
      "('Step', 60000, '/', 100000, '-loss = ', 0.06869456, '-Acc', 0.91)\n",
      "('Step', 65000, '/', 100000, '-loss = ', 0.06829517, '-Acc', 0.91)\n",
      "('Step', 70000, '/', 100000, '-loss = ', 0.06798813, '-Acc', 0.91)\n",
      "('Step', 75000, '/', 100000, '-loss = ', 0.06771576, '-Acc', 0.91)\n",
      "('Step', 80000, '/', 100000, '-loss = ', 0.06747734, '-Acc', 0.91)\n",
      "('Step', 85000, '/', 100000, '-loss = ', 0.06726787, '-Acc', 0.91)\n",
      "('Step', 90000, '/', 100000, '-loss = ', 0.06707664, '-Acc', 0.91)\n",
      "('Step', 95000, '/', 100000, '-loss = ', 0.0669004, '-Acc', 0.91)\n"
     ]
    }
   ],
   "source": [
    "sess = tf.Session()\n",
    "\n",
    "saver = tf.train.Saver()\n",
    "\n",
    "LossTrain = []\n",
    "\n",
    "n_steps = int(1e5)\n",
    "\n",
    "with sess.as_default():\n",
    "    \n",
    "    # Inicializan todas las variables\n",
    "    tf.global_variables_initializer().run()\n",
    "    \n",
    "    for i in range(n_steps):\n",
    "        \n",
    "        # Primero Optimizar\n",
    "        _,_loss,_pY = sess.run( [optimizer,loss,lout], feed_dict={X:XTrain,Y:YTrain} )\n",
    "        \n",
    "        LossTrain.append(_loss)\n",
    "        \n",
    "        if(_loss < 0.01):\n",
    "            print('Entrenamiento finalizado')\n",
    "            break\n",
    "            \n",
    "        if i % 5000 == 0:\n",
    "            \n",
    "            acc = np.mean(np.round(_pY) == YTrain)\n",
    "            \n",
    "            print('Step',i,'/',n_steps,'-loss = ',_loss, '-Acc', acc)\n",
    "            \n",
    "    save_path = saver.save(sess, 'Modelo1.ckpt')"
   ]
  },
  {
   "cell_type": "code",
   "execution_count": null,
   "metadata": {},
   "outputs": [],
   "source": []
  }
 ],
 "metadata": {
  "kernelspec": {
   "display_name": "Python 3",
   "language": "python",
   "name": "python3"
  },
  "language_info": {
   "codemirror_mode": {
    "name": "ipython",
    "version": 3
   },
   "file_extension": ".py",
   "mimetype": "text/x-python",
   "name": "python",
   "nbconvert_exporter": "python",
   "pygments_lexer": "ipython3",
   "version": "3.8.5"
  }
 },
 "nbformat": 4,
 "nbformat_minor": 2
}
