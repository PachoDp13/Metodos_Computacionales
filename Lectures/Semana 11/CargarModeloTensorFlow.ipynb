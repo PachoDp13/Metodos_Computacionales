{
 "cells": [
  {
   "cell_type": "code",
   "execution_count": 1,
   "metadata": {},
   "outputs": [],
   "source": [
    "import numpy as np \n",
    "import scipy as sc\n",
    "import matplotlib.pyplot as plt\n",
    "from matplotlib import cm\n",
    "import pandas as pd\n",
    "import tensorflow as tf"
   ]
  },
  {
   "cell_type": "code",
   "execution_count": 2,
   "metadata": {},
   "outputs": [],
   "source": [
    "saver = tf.train.import_meta_graph('Modelo1.ckpt.meta')"
   ]
  },
  {
   "cell_type": "code",
   "execution_count": 3,
   "metadata": {},
   "outputs": [
    {
     "name": "stdout",
     "output_type": "stream",
     "text": [
      "WARNING:tensorflow:From /home/alejandro/anaconda2/lib/python2.7/site-packages/tensorflow/python/training/saver.py:1276: checkpoint_exists (from tensorflow.python.training.checkpoint_management) is deprecated and will be removed in a future version.\n",
      "Instructions for updating:\n",
      "Use standard file APIs to check for files with this prefix.\n",
      "INFO:tensorflow:Restoring parameters from Modelo1.ckpt\n"
     ]
    },
    {
     "data": {
      "image/png": "[encoded data removed]",
      "text/plain": [
       "<Figure size 360x360 with 1 Axes>"
      ]
     },
     "metadata": {
      "needs_background": "light"
     },
     "output_type": "display_data"
    }
   ],
   "source": [
    "with tf.Session() as sess:\n",
    "    \n",
    "    saver.restore(sess,'Modelo1.ckpt')\n",
    "    \n",
    "    X = sess.graph.get_tensor_by_name('input1:0')\n",
    "    output = sess.graph.get_tensor_by_name('strided_slice:0')\n",
    "    \n",
    "    Yp = sess.run(output, feed_dict={X:[[0.8,0.8]]})\n",
    "    \n",
    "    #print(Yp)\n",
    "    \n",
    "    fig = plt.figure(figsize=(5,5))\n",
    "    ax = fig.add_subplot(1,1,1)\n",
    "    \n",
    "    resolucion = 50\n",
    "    \n",
    "    x = np.linspace(0.,1.,resolucion)\n",
    "    y = np.linspace(0.,1.,resolucion)\n",
    "    \n",
    "    Y = np.zeros((resolucion,resolucion))\n",
    "    \n",
    "    for i,_x in enumerate(x):\n",
    "        for j,_y in enumerate(y):\n",
    "            Y[i,j] = sess.run(output, feed_dict={X:[[_x,_y]]})\n",
    "            \n",
    "    ax.pcolormesh(x,y,Y.T,cmap='coolwarm')"
   ]
  },
  {
   "cell_type": "code",
   "execution_count": null,
   "metadata": {},
   "outputs": [],
   "source": []
  }
 ],
 "metadata": {
  "kernelspec": {
   "display_name": "Python 3",
   "language": "python",
   "name": "python3"
  },
  "language_info": {
   "codemirror_mode": {
    "name": "ipython",
    "version": 3
   },
   "file_extension": ".py",
   "mimetype": "text/x-python",
   "name": "python",
   "nbconvert_exporter": "python",
   "pygments_lexer": "ipython3",
   "version": "3.8.5"
  }
 },
 "nbformat": 4,
 "nbformat_minor": 2
}
