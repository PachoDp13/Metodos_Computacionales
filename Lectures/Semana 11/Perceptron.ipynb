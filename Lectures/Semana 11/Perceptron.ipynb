{
 "cells": [
  {
   "cell_type": "code",
   "execution_count": 1,
   "metadata": {},
   "outputs": [],
   "source": [
    "import numpy as np \n",
    "import matplotlib.pyplot as plt\n",
    "from matplotlib import cm\n",
    "\n",
    "#import pandas as pd\n",
    "\n",
    "from IPython.display import clear_output\n",
    "\n",
    "from sklearn.datasets import make_circles\n",
    "import scipy as sc\n",
    "\n",
    "#from tqdm import tqdm\n",
    "import time"
   ]
  },
  {
   "cell_type": "code",
   "execution_count": 2,
   "metadata": {},
   "outputs": [],
   "source": [
    "NSamples = 50\n",
    "NFeatures = 2\n",
    "XTrain, YTrain = make_circles(n_samples=NSamples,factor=0.5,noise=0.04)\n",
    "YTrain = YTrain[:,np.newaxis]\n",
    "XTest, YTest = make_circles(n_samples=NSamples, factor=0.5,noise=0.07)\n",
    "YTest = YTest[:,np.newaxis]"
   ]
  },
  {
   "cell_type": "code",
   "execution_count": 3,
   "metadata": {},
   "outputs": [
    {
     "name": "stdout",
     "output_type": "stream",
     "text": [
      "((50, 2), (50, 1))\n",
      "((50, 2), (50, 1))\n"
     ]
    }
   ],
   "source": [
    "print(XTrain.shape,YTrain.shape)\n",
    "print(XTest.shape,YTest.shape)"
   ]
  },
  {
   "cell_type": "code",
   "execution_count": 4,
   "metadata": {},
   "outputs": [],
   "source": [
    "def GetFig(X,Y):\n",
    "    plt.scatter(X[Y[:,0]==0, 0], X[Y[:,0]==0, 1], c='skyblue')\n",
    "    plt.scatter(X[Y[:,0]==1, 0], X[Y[:,0]==1, 1], c='salmon')\n",
    "    plt.show()"
   ]
  },
  {
   "cell_type": "code",
   "execution_count": 5,
   "metadata": {},
   "outputs": [
    {
     "data": {
      "image/png": "[encoded data removed]",
      "text/plain": [
       "<Figure size 432x288 with 1 Axes>"
      ]
     },
     "metadata": {
      "needs_background": "light"
     },
     "output_type": "display_data"
    },
    {
     "data": {
      "image/png": "[encoded data removed]",
      "text/plain": [
       "<Figure size 432x288 with 1 Axes>"
      ]
     },
     "metadata": {
      "needs_background": "light"
     },
     "output_type": "display_data"
    }
   ],
   "source": [
    "GetFig(XTrain,YTrain)\n",
    "GetFig(XTest,YTest)"
   ]
  },
  {
   "cell_type": "markdown",
   "metadata": {},
   "source": [
    "# Vamos a crear el perceptron"
   ]
  },
  {
   "cell_type": "code",
   "execution_count": 6,
   "metadata": {},
   "outputs": [],
   "source": [
    "# Funcion de activacion [0] Derivada de la funcion de activacion [1]\n",
    "sigm = ( lambda x: 1/(1+np.exp(-x)),\n",
    "         lambda x: x*(1-x) )\n",
    "relu = ( lambda x: np.maximum(0., x),\n",
    "         lambda x: np.piecewise(x, [x < 0., x >=0.], [0.,1.]))"
   ]
  },
  {
   "cell_type": "code",
   "execution_count": 7,
   "metadata": {},
   "outputs": [
    {
     "data": {
      "text/plain": [
       "[<matplotlib.lines.Line2D at 0x7f5a725bda10>]"
      ]
     },
     "execution_count": 7,
     "metadata": {},
     "output_type": "execute_result"
    },
    {
     "data": {
      "image/png": "[encoded data removed]",
      "text/plain": [
       "<Figure size 432x288 with 1 Axes>"
      ]
     },
     "metadata": {
      "needs_background": "light"
     },
     "output_type": "display_data"
    }
   ],
   "source": [
    "x = np.linspace(-5,5,20)\n",
    "plt.plot(x,sigm[1](x))"
   ]
  },
  {
   "cell_type": "code",
   "execution_count": 8,
   "metadata": {},
   "outputs": [],
   "source": [
    "class Layer():\n",
    "    \n",
    "    def __init__(self, NConnections, NNeurons, ActivationFunc):\n",
    "        \n",
    "        self.ActivationFunc = ActivationFunc\n",
    "        \n",
    "        # Inicializar pesos y bias \n",
    "        \n",
    "        self.b = np.random.rand(1,NNeurons)*2-1\n",
    "        \n",
    "        self.W = np.random.rand(NConnections,NNeurons)*2 - 1."
   ]
  },
  {
   "cell_type": "markdown",
   "metadata": {},
   "source": [
    "$$ \\vec{a}^{L} = f( \\vec{b} + \\vec{I}\\cdot \\vec{W}  ) $$"
   ]
  },
  {
   "cell_type": "code",
   "execution_count": 9,
   "metadata": {},
   "outputs": [],
   "source": [
    "# Vamos a crear capaz\n",
    "L0 = Layer(2,3,sigm)\n",
    "L1 = Layer(3,5,sigm)\n",
    "L2 = Layer(5,1,sigm)"
   ]
  },
  {
   "cell_type": "code",
   "execution_count": 10,
   "metadata": {},
   "outputs": [
    {
     "name": "stdout",
     "output_type": "stream",
     "text": [
      "[[0.39439472 0.62013055 0.44991227]]\n"
     ]
    }
   ],
   "source": [
    "Salida0 = sigm[0](L0.b + np.dot(XTrain[0,:],L0.W))\n",
    "print(Salida0)"
   ]
  },
  {
   "cell_type": "code",
   "execution_count": 11,
   "metadata": {},
   "outputs": [
    {
     "name": "stdout",
     "output_type": "stream",
     "text": [
      "[[ 0.10758055  0.95283657 -0.00743579 -0.49908311  0.91920997]\n",
      " [ 0.7694721  -0.77175549 -0.60919291 -0.28591604 -0.202654  ]\n",
      " [-0.55044068  0.77432563 -0.73507839 -0.19536591  0.05776657]]\n"
     ]
    }
   ],
   "source": [
    "print(L1.W)"
   ]
  },
  {
   "cell_type": "code",
   "execution_count": 12,
   "metadata": {},
   "outputs": [
    {
     "name": "stdout",
     "output_type": "stream",
     "text": [
      "[[0.63173405 0.38588224 0.46958446 0.21872036 0.70503521]]\n"
     ]
    }
   ],
   "source": [
    "Salida1 = sigm[0](L1.b + np.dot(Salida0,L1.W))\n",
    "print(Salida1)"
   ]
  },
  {
   "cell_type": "code",
   "execution_count": 13,
   "metadata": {},
   "outputs": [
    {
     "name": "stdout",
     "output_type": "stream",
     "text": [
      "[[0.54338216]]\n"
     ]
    }
   ],
   "source": [
    "Salida2 = sigm[0](L2.b + np.dot(Salida1,L2.W))\n",
    "print(Salida2)"
   ]
  },
  {
   "cell_type": "markdown",
   "metadata": {},
   "source": [
    "# Generalicemos la topologia de la Red"
   ]
  },
  {
   "cell_type": "code",
   "execution_count": 14,
   "metadata": {},
   "outputs": [],
   "source": [
    "def Perceptron(Topology, ActivationFunc):\n",
    "    \n",
    "    NN = []\n",
    "    \n",
    "    for l, layer in enumerate(Topology[:-1]):\n",
    "        \n",
    "        NN.append(Layer(Topology[l],Topology[l+1],ActivationFunc[l+1]))\n",
    "        \n",
    "    return NN"
   ]
  },
  {
   "cell_type": "code",
   "execution_count": 16,
   "metadata": {},
   "outputs": [],
   "source": [
    "#MyTopology = [NFeatures, 4, 8, 1]\n",
    "MyTopology = [NFeatures, 5,10,4 , 1]\n",
    "\n",
    "Activations = [sigm, sigm, sigm, sigm, sigm]\n",
    "\n",
    "Perceptron1 = Perceptron(MyTopology, Activations)"
   ]
  },
  {
   "cell_type": "code",
   "execution_count": 17,
   "metadata": {},
   "outputs": [],
   "source": [
    "#print(Perceptron1[1].W)"
   ]
  },
  {
   "cell_type": "markdown",
   "metadata": {},
   "source": [
    "# Necesitamos una función de Costo (Métrica)\n",
    "## Error cuadrático Medio"
   ]
  },
  {
   "cell_type": "code",
   "execution_count": 18,
   "metadata": {},
   "outputs": [],
   "source": [
    "Cost = (lambda Yp, Yr: np.mean((Yp-Yr)**2),\n",
    "        lambda Yp, Yr: Yp-Yr)"
   ]
  },
  {
   "cell_type": "code",
   "execution_count": 19,
   "metadata": {},
   "outputs": [],
   "source": [
    "def Predict(Perceptron, XTrain, train=True):\n",
    "    \n",
    "    # Guardamos la suma ponderada de cada capa y sus activaciones\n",
    "    out = [(None,XTrain)]\n",
    "    \n",
    "    # Forward Pass\n",
    "    for l, layer in enumerate(Perceptron):\n",
    "        \n",
    "        z = np.dot(out[-1][1],Perceptron[l].W+Perceptron[l].b)\n",
    "        a = Perceptron[l].ActivationFunc[0](z)\n",
    "        \n",
    "        out.append((z,a))\n",
    "        \n",
    "    if train:\n",
    "        return out\n",
    "    else:\n",
    "        return out[-1][1]"
   ]
  },
  {
   "cell_type": "code",
   "execution_count": 20,
   "metadata": {},
   "outputs": [
    {
     "name": "stdout",
     "output_type": "stream",
     "text": [
      "[0.1805592]\n"
     ]
    }
   ],
   "source": [
    "OutPerceptron = Predict(Perceptron1,XTrain[0,:],train=False)\n",
    "print(OutPerceptron)"
   ]
  },
  {
   "cell_type": "markdown",
   "metadata": {},
   "source": [
    "# Para entrenar la red usamos backpropagation\n",
    "\n",
    "Error ultima capa\n",
    "$$ \\delta^{L} = \\frac{\\partial C}{\\partial a^{L}} \\frac{\\partial a^{L}}{\\partial z^{L}} $$ \n",
    "\n",
    "$$ \\delta^{l-1} = \\delta^{l} W^{l} \\frac{\\partial a^{l-1}}{\\partial z^{l-1}}$$"
   ]
  },
  {
   "cell_type": "code",
   "execution_count": 21,
   "metadata": {},
   "outputs": [],
   "source": [
    "def Train(Perceptron,XTrain,YTrain,Cost,gamma):\n",
    "    \n",
    "    delta = []\n",
    "    \n",
    "    # Forward Pass\n",
    "    out = Predict(Perceptron,XTrain)\n",
    "    \n",
    "    # Recordar que la primera capa no esta en out\n",
    "    # usar l+1 si arranca en cero\n",
    "    \n",
    "    # For loop hacia atras\n",
    "    # Backward pass\n",
    "    for l in reversed(range(0,len(Perceptron))):\n",
    "        \n",
    "        z = out[l+1][0] # Salidas hacia atras de las sumas\n",
    "        a = out[l+1][1] # Salidas hacia atras de las activaciones\n",
    "        \n",
    "        # Error en la ultima capa\n",
    "        if l == len(Perceptron) -1:\n",
    "            # Derivada del Costo en a\n",
    "            # Derivada de la activacion en a\n",
    "            delta.insert(0,Cost[1](a,YTrain)*Perceptron[l].ActivationFunc[1](a))\n",
    "        else:\n",
    "            delta.insert(0, np.dot(delta[0],Wt.T)*Perceptron[l].ActivationFunc[1](a))\n",
    "        \n",
    "        Wt = Perceptron[l].W\n",
    "        \n",
    "        # Gradient Descent\n",
    "        Perceptron[l].b -= gamma*np.mean(delta[0], axis=0, keepdims=True)\n",
    "        Perceptron[l].W -= gamma*np.dot(out[l][1].T,delta[0])\n",
    "         \n",
    "    # Retornamos la rediccion de la ultima capa        \n",
    "    return out[-1][1]"
   ]
  },
  {
   "cell_type": "code",
   "execution_count": 22,
   "metadata": {},
   "outputs": [
    {
     "name": "stdout",
     "output_type": "stream",
     "text": [
      "[[0.1805592 ]\n",
      " [0.18027675]\n",
      " [0.1805534 ]\n",
      " [0.18046   ]\n",
      " [0.18058064]\n",
      " [0.18057618]\n",
      " [0.18024   ]\n",
      " [0.18027256]\n",
      " [0.18069333]\n",
      " [0.18039425]\n",
      " [0.18003002]\n",
      " [0.18023353]\n",
      " [0.18008248]\n",
      " [0.18022274]\n",
      " [0.18011929]\n",
      " [0.18018962]\n",
      " [0.18046199]\n",
      " [0.18078584]\n",
      " [0.18079583]\n",
      " [0.18076562]\n",
      " [0.180117  ]\n",
      " [0.18045771]\n",
      " [0.18013403]\n",
      " [0.18044655]\n",
      " [0.18014153]\n",
      " [0.18073469]\n",
      " [0.18013171]\n",
      " [0.18050877]\n",
      " [0.18001539]\n",
      " [0.1807925 ]\n",
      " [0.18008926]\n",
      " [0.18030961]\n",
      " [0.18057806]\n",
      " [0.1804742 ]\n",
      " [0.18020232]\n",
      " [0.18031448]\n",
      " [0.18016255]\n",
      " [0.18030289]\n",
      " [0.18063468]\n",
      " [0.1800244 ]\n",
      " [0.18015442]\n",
      " [0.18011435]\n",
      " [0.18006056]\n",
      " [0.18017008]\n",
      " [0.18055175]\n",
      " [0.18037518]\n",
      " [0.18001802]\n",
      " [0.18036332]\n",
      " [0.18058102]\n",
      " [0.18015887]]\n"
     ]
    }
   ],
   "source": [
    "salida = Train(Perceptron1,XTrain,YTrain,Cost,0.01)\n",
    "print(salida)"
   ]
  },
  {
   "cell_type": "markdown",
   "metadata": {},
   "source": [
    "# Vamos a hacer el entrenamiento de la Red"
   ]
  },
  {
   "cell_type": "code",
   "execution_count": 23,
   "metadata": {},
   "outputs": [],
   "source": [
    "LoosF = []\n",
    "LoosFT = []\n",
    "\n",
    "def GetFig(Max):\n",
    "    \n",
    "    fig = plt.figure(figsize=(4,8))\n",
    "    ax = fig.add_subplot(2,1,1)\n",
    "    ax1 = fig.add_subplot(2,1,2)\n",
    "    \n",
    "    resolucion = 50\n",
    "    \n",
    "    x = np.linspace(-1.5,1.5,resolucion)\n",
    "    y = np.linspace(-1.5,1.5,resolucion) \n",
    "    \n",
    "    Y = np.zeros((resolucion,resolucion))\n",
    "    \n",
    "    for i,_x in enumerate(x):\n",
    "        for j,_y in enumerate(y):\n",
    "            Y[i,j] = Predict(Perceptron1, np.array([[_x,_y]]),False)\n",
    "\n",
    "    ax.pcolormesh(x,y,Y.T,cmap='coolwarm')\n",
    "    \n",
    "    ax.scatter(XTrain[YTrain[:,0] == 0 ,0],XTrain[YTrain[:,0]==0,1], c='skyblue')\n",
    "    ax.scatter(XTrain[YTrain[:,0] == 1 ,0],XTrain[YTrain[:,0]==1,1], c='salmon')\n",
    "    \n",
    "    \n",
    "    ax1.plot(range(len(LoosF)),LoosF,label='Training')\n",
    "    ax1.plot(range(len(LoosFT)),LoosFT,label='Testing')\n",
    "    ax1.legend(loc=0)\n",
    "    \n",
    "    clear_output(wait=True)\n",
    "    plt.show()\n",
    "    time.sleep(0.01)"
   ]
  },
  {
   "cell_type": "code",
   "execution_count": 25,
   "metadata": {},
   "outputs": [
    {
     "data": {
      "image/png": "[encoded data removed]",
      "text/plain": [
       "<Figure size 288x576 with 2 Axes>"
      ]
     },
     "metadata": {
      "needs_background": "light"
     },
     "output_type": "display_data"
    }
   ],
   "source": [
    "Epochs = int(5e4)\n",
    "\n",
    "for e in range(Epochs):\n",
    "    \n",
    "    Yp = Train(Perceptron1,XTrain,YTrain,Cost,0.1)\n",
    "    YpT = Predict(Perceptron1, XTest, False) \n",
    "    \n",
    "    if e % 1000 == 0:\n",
    "        LoosF.append(Cost[0](Yp,YTrain))\n",
    "        LoosFT.append(Cost[0](YpT,YTest))\n",
    "        \n",
    "        GetFig(LoosF[0])\n",
    "    "
   ]
  },
  {
   "cell_type": "code",
   "execution_count": null,
   "metadata": {},
   "outputs": [],
   "source": []
  },
  {
   "cell_type": "code",
   "execution_count": null,
   "metadata": {},
   "outputs": [],
   "source": []
  },
  {
   "cell_type": "code",
   "execution_count": null,
   "metadata": {},
   "outputs": [],
   "source": []
  }
 ],
 "metadata": {
  "kernelspec": {
   "display_name": "Python 3",
   "language": "python",
   "name": "python3"
  },
  "language_info": {
   "codemirror_mode": {
    "name": "ipython",
    "version": 3
   },
   "file_extension": ".py",
   "mimetype": "text/x-python",
   "name": "python",
   "nbconvert_exporter": "python",
   "pygments_lexer": "ipython3",
   "version": "3.8.5"
  }
 },
 "nbformat": 4,
 "nbformat_minor": 2
}
