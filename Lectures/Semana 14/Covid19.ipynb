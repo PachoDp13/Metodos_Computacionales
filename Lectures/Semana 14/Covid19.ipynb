{
 "cells": [
  {
   "cell_type": "code",
   "execution_count": 1,
   "metadata": {},
   "outputs": [],
   "source": [
    "import numpy as np\n",
    "import matplotlib.pyplot as plt\n",
    "from tqdm import tqdm"
   ]
  },
  {
   "cell_type": "code",
   "execution_count": 20,
   "metadata": {},
   "outputs": [
    {
     "name": "stdout",
     "output_type": "stream",
     "text": [
      "0.1\n"
     ]
    }
   ],
   "source": [
    "# Definimos la discretización para el tiempo\n",
    "Tmin, Tmax, Npoints = 0.,10., 101\n",
    "t = np.linspace(Tmin, Tmax, Npoints)\n",
    "deltat = (Tmax-Tmin)/float(Npoints-1)\n",
    "print(deltat)"
   ]
  },
  {
   "cell_type": "code",
   "execution_count": 21,
   "metadata": {},
   "outputs": [],
   "source": [
    "S0 = 1\n",
    "I0 = 2\n",
    "\n",
    "S = np.zeros(Npoints)\n",
    "I = np.zeros(Npoints)\n",
    "\n",
    "S[0] = S0\n",
    "I[0] = I0"
   ]
  },
  {
   "cell_type": "code",
   "execution_count": 23,
   "metadata": {},
   "outputs": [
    {
     "name": "stderr",
     "output_type": "stream",
     "text": [
      "100%|██████████| 100/100 [00:00<00:00, 100007.25it/s]\n"
     ]
    }
   ],
   "source": [
    "for i in tqdm(range(1,Npoints)):\n",
    "    S[i] = S[i-1] + (2*S[i-1] -I[i-1])*deltat\n",
    "    I[i] = I[i-1] + (S[i-1] +2*I[i-1]  )*deltat"
   ]
  },
  {
   "cell_type": "code",
   "execution_count": 24,
   "metadata": {},
   "outputs": [
    {
     "data": {
      "image/png": "[encoded data removed]",
      "text/plain": [
       "<Figure size 360x360 with 1 Axes>"
      ]
     },
     "metadata": {
      "needs_background": "light"
     },
     "output_type": "display_data"
    }
   ],
   "source": [
    "plt.figure(figsize=(5,5))\n",
    "plt.plot(t,S, c='k',label='Suceptibles')\n",
    "plt.plot(t,I, c='r',label='Infectives')\n",
    "plt.ylabel('N')\n",
    "plt.xlabel('Days')\n",
    "plt.legend(loc=0)\n",
    "plt.grid()\n",
    "plt.savefig('Covid.pdf')\n",
    "plt.show()"
   ]
  },
  {
   "cell_type": "markdown",
   "metadata": {},
   "source": [
    "# Integrar en el esquema Runge-Kutta"
   ]
  },
  {
   "cell_type": "code",
   "execution_count": 25,
   "metadata": {},
   "outputs": [],
   "source": [
    "def f1(S,I,beta,gamma):\n",
    "    return 2*S -I\n",
    "def f2(S,I,beta,gamma):\n",
    "    return S+2*I"
   ]
  },
  {
   "cell_type": "code",
   "execution_count": 26,
   "metadata": {},
   "outputs": [],
   "source": [
    "Func = [lambda S, I, beta, gamma: 2*S -I,\n",
    "         lambda S, I, beta, gamma: S+2*I]"
   ]
  },
  {
   "cell_type": "code",
   "execution_count": 27,
   "metadata": {},
   "outputs": [],
   "source": [
    "Inicial = [S0,I0]"
   ]
  },
  {
   "cell_type": "code",
   "execution_count": 28,
   "metadata": {},
   "outputs": [],
   "source": [
    "def GetRungeKutta4(Inicial, h):\n",
    "    \n",
    "    S = np.zeros([Npoints])\n",
    "    I = np.zeros([Npoints])\n",
    "    \n",
    "    S[0] = Inicial[0]\n",
    "    I[0] = Inicial[1]\n",
    "    \n",
    "    K1 = np.zeros(2)\n",
    "    K2 = np.zeros(2)\n",
    "    K3 = np.zeros(2)\n",
    "    K4 = np.zeros(2)\n",
    "    \n",
    "    for i in tqdm(range(1,Npoints)):\n",
    "        \n",
    "        #for j in range(len(Inicial)):\n",
    "         #   K1[j] = h*Func[j](S[i-1], I[i-1], beta, gamma)\n",
    "         #   K2[j] = h*Func[j](S[i-1] +0.5*K1[0], I[i-1] +0.5*K1[1],beta,gamma)\n",
    "         #   K3[j] = h*Func[j](S[i-1] +0.5*K2[0], I[i-1] +0.5*K2[1],beta,gamma)\n",
    "         #   K4[j] = h*Func[j](S[i-1] +K3[0], I[i-1] +K3[1],beta,gamma)\n",
    "        \n",
    "        K1[0] = h*f1(S[i-1],I[i-1],beta,gamma)\n",
    "        K1[1] = h*f2(S[i-1],I[i-1],beta,gamma)\n",
    "        \n",
    "        K2[0] = h*f1(S[i-1]+0.5*K1[0],I[i-1]+0.5*K1[1],beta,gamma)\n",
    "        K2[1] = h*f2(S[i-1]+0.5*K1[0],I[i-1]+0.5*K1[1],beta,gamma)\n",
    "        \n",
    "        K3[0] = h*f1(S[i-1]+0.5*K2[0],I[i-1]+0.5*K2[1],beta,gamma)\n",
    "        K3[1] = h*f2(S[i-1]+0.5*K2[0],I[i-1]+0.5*K2[1],beta,gamma)\n",
    "        \n",
    "        K4[0] = h*f1(S[i-1]+K3[0],I[i-1]+K3[1],beta,gamma)\n",
    "        K4[1] = h*f2(S[i-1]+K3[0],I[i-1]+K3[1],beta,gamma)\n",
    "        \n",
    "        S[i] = S[i-1] + (K1[0]+2*K2[0]+2*K3[0]+K4[0])/6.\n",
    "        I[i] = I[i-1] + (K1[1]+2*K2[1]+2*K3[1]+K4[1])/6.\n",
    "    \n",
    "    \n",
    "    return S,I"
   ]
  },
  {
   "cell_type": "code",
   "execution_count": 29,
   "metadata": {},
   "outputs": [
    {
     "name": "stderr",
     "output_type": "stream",
     "text": [
      "100%|██████████| 100/100 [00:00<00:00, 24991.38it/s]\n"
     ]
    }
   ],
   "source": [
    "Sr, Ir = GetRungeKutta4(Inicial,deltat)"
   ]
  },
  {
   "cell_type": "code",
   "execution_count": 31,
   "metadata": {},
   "outputs": [
    {
     "data": {
      "image/png": "[encoded data removed]",
      "text/plain": [
       "<Figure size 360x360 with 1 Axes>"
      ]
     },
     "metadata": {
      "needs_background": "light"
     },
     "output_type": "display_data"
    }
   ],
   "source": [
    "plt.figure(figsize=(5,5))\n",
    "plt.plot(t,Sr, c='k',label='X Runge')\n",
    "plt.plot(t,Ir, c='r',label='Y Runge')\n",
    "plt.plot(t,S,'--',c='b',label='X Euler')\n",
    "plt.plot(t,I,'--',c='b',label='Y Euler')\n",
    "plt.ylabel('N')\n",
    "plt.xlabel('Days')\n",
    "plt.legend(loc=0)\n",
    "plt.grid()\n",
    "plt.savefig('Covid.pdf')\n",
    "plt.show()"
   ]
  },
  {
   "cell_type": "code",
   "execution_count": 12,
   "metadata": {},
   "outputs": [],
   "source": [
    "g = 1./10.\n",
    "#alpha = 0.0000001\n",
    "alpha = 0.0"
   ]
  },
  {
   "cell_type": "code",
   "execution_count": 13,
   "metadata": {},
   "outputs": [
    {
     "name": "stdout",
     "output_type": "stream",
     "text": [
      "[[1. 0. 0.]\n",
      " [0. 1. 0.]\n",
      " [0. 0. 1.]]\n"
     ]
    }
   ],
   "source": [
    "I = np.array([ [1,0,0],[0,1,0],[0,0,1] ])\n",
    "Fout = np.array([ [3./5,0,0],[0,12./20,0],[0,0,2./3] ])\n",
    "Fin = np.array( [ [0.,5./20.,8./30.],[1./5.,0.,12./30.],[2./5.,7./20.,0.] ])\n",
    "\n",
    "T = I + alpha*(Fin - Fout)\n",
    "print(T)"
   ]
  },
  {
   "cell_type": "code",
   "execution_count": 14,
   "metadata": {},
   "outputs": [],
   "source": [
    "Ptot = np.array([50,20,30])\n",
    "Ia = np.array([0.,0.,1])\n",
    "Sa = Ptot-Ia\n",
    "# Numero de Reproduccion\n",
    "Ra=g*np.array([2.5,2.5,2.5])\n",
    "\n",
    "\n",
    "# Cantidades Parciales\n",
    "Sp = np.array([Sa])\n",
    "Ip = np.array([Ia])\n",
    "Rp = np.array([Ia])\n",
    "\n",
    "#Total\n",
    "St = np.array([np.sum(Sa)])\n",
    "It = np.array([np.sum(Ia)])\n",
    "Rt = np.array([np.sum(Ra)])\n",
    "\n",
    "ttotal = np.array([0.])"
   ]
  },
  {
   "cell_type": "code",
   "execution_count": 15,
   "metadata": {},
   "outputs": [],
   "source": [
    "TMax = 100\n",
    "dt = 0.01\n",
    "t = 0.\n",
    "\n",
    "while (t <= TMax):\n",
    "    \n",
    "    # Mirar el transporte\n",
    "    \n",
    "    Sa = np.matmul(T,Sa)\n",
    "    Ia = np.matmul(T,Ia)\n",
    "    Ra = np.matmul(T,Ra)\n",
    "    \n",
    "    Ptot = Sa+Ia+Ra\n",
    "    \n",
    "    Sa += -Ra*Sa*Ia*dt/(Ptot)\n",
    "    Ia += Ra*Sa*Ia*dt/(Ptot) - Ia*dt*g\n",
    "    Ra += Ia*dt*g\n",
    "                    \n",
    "    t+= dt\n",
    "    \n",
    "                        # Evolucion total\n",
    "    St = np.concatenate((St, [np.sum(Sa)]),axis=0) \n",
    "    It = np.concatenate((It, [np.sum(Ia)]),axis=0) \n",
    "    Rt = np.concatenate((Rt, [np.sum(Ra)]),axis=0) \n",
    "    # Por region\n",
    "    Sp = np.concatenate((Sp, [Sa]),axis=0)\n",
    "    Ip = np.concatenate((Ip, [Ia]),axis=0)\n",
    "    Rp = np.concatenate((Rp, [Ra]),axis=0)\n",
    "    \n",
    "    ttotal = np.concatenate((ttotal, [t]), axis=0)"
   ]
  },
  {
   "cell_type": "code",
   "execution_count": 16,
   "metadata": {},
   "outputs": [
    {
     "data": {
      "image/png": "[encoded data removed]",
      "text/plain": [
       "<Figure size 432x432 with 1 Axes>"
      ]
     },
     "metadata": {
      "needs_background": "light"
     },
     "output_type": "display_data"
    }
   ],
   "source": [
    "plt.figure(figsize=(6,6))\n",
    "plt.plot(ttotal,St, c='b',label='Suceptibles')\n",
    "plt.plot(ttotal,It, c='r',label='Infectives')\n",
    "plt.plot(ttotal,Rt, c='g',label='Recuperados')\n",
    "plt.legend(loc=0)\n",
    "#plt.xlim(40,50)\n",
    "plt.savefig('covid.png')\n",
    "plt.show()"
   ]
  },
  {
   "cell_type": "code",
   "execution_count": 17,
   "metadata": {},
   "outputs": [
    {
     "data": {
      "text/plain": [
       "<matplotlib.legend.Legend at 0x217448c3f40>"
      ]
     },
     "execution_count": 17,
     "metadata": {},
     "output_type": "execute_result"
    },
    {
     "data": {
      "image/png": "[encoded data removed]",
      "text/plain": [
       "<Figure size 432x432 with 1 Axes>"
      ]
     },
     "metadata": {
      "needs_background": "light"
     },
     "output_type": "display_data"
    }
   ],
   "source": [
    "plt.figure(figsize=(6,6))\n",
    "\n",
    "for i in range(0,3):\n",
    "    plt.plot(ttotal,Ip[:,i],label='Infectives, region %i' %(i))\n",
    "\n",
    "    \n",
    "plt.savefig('infectives.png')\n",
    "plt.legend(loc=0)"
   ]
  },
  {
   "cell_type": "code",
   "execution_count": null,
   "metadata": {},
   "outputs": [],
   "source": []
  }
 ],
 "metadata": {
  "kernelspec": {
   "display_name": "Python 3",
   "language": "python",
   "name": "python3"
  },
  "language_info": {
   "codemirror_mode": {
    "name": "ipython",
    "version": 3
   },
   "file_extension": ".py",
   "mimetype": "text/x-python",
   "name": "python",
   "nbconvert_exporter": "python",
   "pygments_lexer": "ipython3",
   "version": "3.8.5"
  }
 },
 "nbformat": 4,
 "nbformat_minor": 2
}
