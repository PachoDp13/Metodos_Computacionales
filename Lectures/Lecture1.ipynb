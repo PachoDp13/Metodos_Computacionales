{
 "cells": [
  {
   "cell_type": "markdown",
   "metadata": {},
   "source": [
    "# Objetivo:\n",
    "\n",
    "Establecer los elementos mínimos del lenguaje $\\texttt{Python}$, que son base para programar métodos numéricos."
   ]
  },
  {
   "cell_type": "code",
   "execution_count": 29,
   "metadata": {},
   "outputs": [],
   "source": [
    "import numpy as np\n",
    "import matplotlib.pyplot as plt\n",
    "from matplotlib import rc\n",
    "from IPython.display import IFrame, display"
   ]
  },
  {
   "cell_type": "code",
   "execution_count": 5,
   "metadata": {},
   "outputs": [
    {
     "data": {
      "text/html": [
       "\n",
       "        <iframe\n",
       "            width=\"400\"\n",
       "            height=\"400\"\n",
       "            src=\"feynman.jpeg\"\n",
       "            frameborder=\"0\"\n",
       "            allowfullscreen\n",
       "        ></iframe>\n",
       "        "
      ],
      "text/plain": [
       "<IPython.lib.display.IFrame at 0x7f595c2db8d0>"
      ]
     },
     "execution_count": 5,
     "metadata": {},
     "output_type": "execute_result"
    }
   ],
   "source": [
    "file = 'feynman.jpeg'\n",
    "IFrame(file, width=400, height=400) "
   ]
  },
  {
   "cell_type": "code",
   "execution_count": 7,
   "metadata": {},
   "outputs": [
    {
     "name": "stdout",
     "output_type": "stream",
     "text": [
      "[3.15, 2.35, 6.89, 4.52, 3.32]\n"
     ]
    }
   ],
   "source": [
    "# Listas \n",
    "\n",
    "mylist = [ 3.15,2.35,6.89,4.52,3.32 ]\n",
    "print(mylist)"
   ]
  },
  {
   "cell_type": "code",
   "execution_count": 10,
   "metadata": {},
   "outputs": [
    {
     "name": "stdout",
     "output_type": "stream",
     "text": [
      "(2.35, 3.32, [3.15, 2.35, 6.89, 4.52, 3.32])\n"
     ]
    }
   ],
   "source": [
    "print(mylist[1],mylist[-1], mylist[:])"
   ]
  },
  {
   "cell_type": "code",
   "execution_count": 13,
   "metadata": {},
   "outputs": [
    {
     "name": "stdout",
     "output_type": "stream",
     "text": [
      "([3.15, 2.35], [3.15, 2.35], [6.89, 4.52, 3.32])\n"
     ]
    }
   ],
   "source": [
    "print(mylist[0:2], mylist[:2], mylist[2:])"
   ]
  },
  {
   "cell_type": "code",
   "execution_count": 16,
   "metadata": {},
   "outputs": [
    {
     "name": "stdout",
     "output_type": "stream",
     "text": [
      "[3.15, 2.35, 5.63, 5.63, 5.63, 6.89, 4.52, 3.32, 6.35995, 100, 6.35995]\n"
     ]
    }
   ],
   "source": [
    "mylist.insert(2,5.63)\n",
    "mylist.append(6.35995)\n",
    "mylist.insert(-1,100)\n",
    "print(mylist)"
   ]
  },
  {
   "cell_type": "code",
   "execution_count": 20,
   "metadata": {},
   "outputs": [
    {
     "name": "stdout",
     "output_type": "stream",
     "text": [
      "[[  1.    1.    0.9]\n",
      " [  2.    2.2   7.8]\n",
      " [  3.    2.5  27.5]\n",
      " [  4.    4.4  67. ]\n",
      " [  5.    6.  130. ]]\n"
     ]
    }
   ],
   "source": [
    "# Leer \n",
    "file1 = 'Data/data1.dat'\n",
    "data = np.loadtxt(file1)\n",
    "print(data)"
   ]
  },
  {
   "cell_type": "code",
   "execution_count": 22,
   "metadata": {},
   "outputs": [
    {
     "name": "stdout",
     "output_type": "stream",
     "text": [
      "(array([1., 2., 3., 4., 5.]), array([1. , 2.2, 2.5, 4.4, 6. ]), array([  0.9,   7.8,  27.5,  67. , 130. ]))\n"
     ]
    }
   ],
   "source": [
    "tiempo = data[:,0]\n",
    "x = data[:,1]\n",
    "y = data[:,2]\n",
    "\n",
    "print(tiempo,x,y)"
   ]
  },
  {
   "cell_type": "code",
   "execution_count": 38,
   "metadata": {},
   "outputs": [
    {
     "data": {
      "image/png": "[encoded data removed]",
      "text/plain": [
       "<Figure size 432x288 with 1 Axes>"
      ]
     },
     "metadata": {
      "needs_background": "light"
     },
     "output_type": "display_data"
    }
   ],
   "source": [
    "\n",
    "plt.plot(tiempo, x, 'ro', label='cinematica')\n",
    "\n",
    "plt.xlabel(r'$\\alpha(t)$', fontsize=15)\n",
    "plt.grid()\n",
    "plt.legend()\n",
    "plt.savefig('xvst.pdf')"
   ]
  },
  {
   "cell_type": "code",
   "execution_count": 48,
   "metadata": {},
   "outputs": [
    {
     "name": "stdout",
     "output_type": "stream",
     "text": [
      ".:\r\n",
      ".   Data\t  Figures\t      Reading1.ipynb\r\n",
      "..  feynman.jpeg  .ipynb_checkpoints  xvst.pdf\r\n",
      "\r\n",
      "./Data:\r\n",
      ".  ..  data1.dat\r\n",
      "\r\n",
      "./Figures:\r\n",
      ".  ..  .gitkeep\r\n",
      "\r\n",
      "./.ipynb_checkpoints:\r\n",
      ".  ..  Reading1-checkpoint.ipynb\r\n"
     ]
    }
   ],
   "source": [
    "#!pip install numpy # Instruccion de la shell\n",
    "!ls -Ra\n",
    "#touch .gitkeep"
   ]
  },
  {
   "cell_type": "code",
   "execution_count": 45,
   "metadata": {},
   "outputs": [
    {
     "data": {
      "image/png": "[encoded data removed]",
      "text/plain": [
       "<Figure size 432x288 with 1 Axes>"
      ]
     },
     "metadata": {
      "needs_background": "light"
     },
     "output_type": "display_data"
    }
   ],
   "source": [
    "fig, ax = plt.subplots()\n",
    "p1 = ax.plot(tiempo,x,'r', linewidth=3)\n",
    "p2 = ax.plot(tiempo,y,'bo')\n",
    "\n",
    "ax.set_xlabel(r\"$t[s]$\")\n",
    "plt.grid()"
   ]
  },
  {
   "cell_type": "markdown",
   "metadata": {},
   "source": [
    "# Nuclear Decay\n",
    "\n",
    "$$ N(t) = N_{0}e^{-\\alpha t}  $$"
   ]
  },
  {
   "cell_type": "code",
   "execution_count": 49,
   "metadata": {},
   "outputs": [],
   "source": [
    "# c++ std::cout \n",
    "\n",
    "def Funcion(t, N0_, alpha_):\n",
    "    return N0_*np.exp(-alpha_*t)"
   ]
  },
  {
   "cell_type": "code",
   "execution_count": 54,
   "metadata": {},
   "outputs": [],
   "source": [
    "N0 = 1000\n",
    "alpha = 0.8\n",
    "\n",
    "# la variable independiente\n",
    "t = np.linspace(0.1,2.,100)\n",
    "#print(t, type(t))"
   ]
  },
  {
   "cell_type": "code",
   "execution_count": 59,
   "metadata": {},
   "outputs": [
    {
     "name": "stdout",
     "output_type": "stream",
     "text": [
      "[923.11634639 909.05149581 895.2009411  881.5614172  868.12970877\n",
      " 854.9026495  841.87712127 829.05005352 816.41842245 803.97925033\n",
      " 791.7296048  779.66659819 767.78738682 756.08917032 744.56919102\n",
      " 733.22473324 722.05312269 711.05172583 700.21794923 689.54923897\n",
      " 679.04308008 668.69699587 658.5085474  648.47533289 638.59498715\n",
      " 628.86518103 619.28362087 609.84804796 600.55623799 591.40600056\n",
      " 582.39517862 573.521648   564.7833169  556.17812537 547.70404487\n",
      " 539.35907776 531.14125683 523.04864484 515.07933408 507.23144589\n",
      " 499.50313025 491.89256533 484.39795703 477.01753861 469.74957024\n",
      " 462.59233861 455.5441565  448.6033624  441.76832011 435.03741838\n",
      " 428.40907049 421.88171391 415.4538099  409.12384317 402.89032153\n",
      " 396.75177551 390.70675804 384.7538441  378.89163036 373.1187349\n",
      " 367.43379684 361.83547603 356.32245276 350.8934274  345.54712014\n",
      " 340.28227066 335.09763786 329.99199952 324.96415208 320.01291027\n",
      " 315.13710693 310.33559265 305.60723554 300.95092096 296.36555125\n",
      " 291.85004548 287.40333917 283.02438408 278.71214794 274.46561419\n",
      " 270.28378179 266.16566491 262.11029278 258.1167094  254.18397333\n",
      " 250.31115749 246.49734893 242.74164859 239.04317111 235.40104463\n",
      " 231.81441059 228.28242347 224.80425066 221.37907223 218.00608075\n",
      " 214.68448108 211.4134902  208.19233703 205.02026222 201.89651799]\n"
     ]
    }
   ],
   "source": [
    "y = np.zeros(len(t))\n",
    "\n",
    "# version python\n",
    "#y = Funcion(t,N0,alpha)\n",
    "# version c++\n",
    "for i in range(len(t)):\n",
    "    y[i] = Funcion(t[i],N0,alpha)\n",
    "\n",
    "\n",
    "print(y)"
   ]
  },
  {
   "cell_type": "code",
   "execution_count": 60,
   "metadata": {},
   "outputs": [
    {
     "data": {
      "image/png": "[encoded data removed]",
      "text/plain": [
       "<Figure size 432x288 with 1 Axes>"
      ]
     },
     "metadata": {
      "needs_background": "light"
     },
     "output_type": "display_data"
    }
   ],
   "source": [
    "fig, ax = plt.subplots()\n",
    "\n",
    "p1 = ax.plot(t, y, 'bo') # Deben tener la misma dimension\n",
    "p2 = ax.plot(np.log(2)/alpha, 0.5*N0, 'ro')\n",
    "\n",
    "ax.set(xlabel = r'$tiempo[s]$', ylabel = r'$N(t)$', title=r'$\\mathrm{Nuclear \\ Decay} \\ N_{0}=%.0f, \\ \\alpha = %.2f$' %(N0,alpha))\n",
    "\n",
    "ax.grid()\n",
    "ax.legend()\n",
    "\n",
    "plt.savefig('Figures/Decay.pdf')\n",
    "plt.show()"
   ]
  },
  {
   "cell_type": "markdown",
   "metadata": {},
   "source": [
    "## Vamos a crear nuestra primera anim!"
   ]
  },
  {
   "cell_type": "code",
   "execution_count": 61,
   "metadata": {},
   "outputs": [],
   "source": [
    "filenames = []\n",
    "\n",
    "def CreateFig(alpha_, it):\n",
    "    \n",
    "    t = np.linspace(0.01,10.,50)\n",
    "    y = Funcion(t,N0,alpha_)\n",
    "    \n",
    "    mean = np.log(2)/alpha_\n",
    "    \n",
    "    fig, ax = plt.subplots()\n",
    "    p1 = ax.plot(t,y,'bo')\n",
    "    p2 = ax.plot(mean, 0.5*N0, 'ro')\n",
    "    \n",
    "    ax.set_xlim(0.,10.)\n",
    "    ax.set_ylim(0.,1000.)\n",
    "    \n",
    "    ax.set(xlabel = 'tiempo[s]',\n",
    "        ylabel = 'N(t)',\n",
    "        title =r'$\\mathrm{Nuclear \\ Decay: %.0f} \\ N_{0}=%.0f, \\ \\alpha=%.2f \\ \\mu=%.3f$' %(it, N0, alpha_, mean))\n",
    "    ax.grid()\n",
    "    ax.legend()\n",
    "    \n",
    "    filename = \"Figures/%02d\"%it + \".png\"\n",
    "    filenames.append(filename)\n",
    "    plt.savefig(filename)\n",
    "    plt.close()"
   ]
  },
  {
   "cell_type": "code",
   "execution_count": 67,
   "metadata": {},
   "outputs": [
    {
     "name": "stdout",
     "output_type": "stream",
     "text": [
      "[0.1        0.11836735 0.13673469 0.15510204 0.17346939 0.19183673\n",
      " 0.21020408 0.22857143 0.24693878 0.26530612 0.28367347 0.30204082\n",
      " 0.32040816 0.33877551 0.35714286 0.3755102  0.39387755 0.4122449\n",
      " 0.43061224 0.44897959 0.46734694 0.48571429 0.50408163 0.52244898\n",
      " 0.54081633 0.55918367 0.57755102 0.59591837 0.61428571 0.63265306\n",
      " 0.65102041 0.66938776 0.6877551  0.70612245 0.7244898  0.74285714\n",
      " 0.76122449 0.77959184 0.79795918 0.81632653 0.83469388 0.85306122\n",
      " 0.87142857 0.88979592 0.90816327 0.92653061 0.94489796 0.96326531\n",
      " 0.98163265 1.        ]\n"
     ]
    }
   ],
   "source": [
    "alpha_test = np.linspace(0.1,1.0,50)\n",
    "print(alpha_test)"
   ]
  },
  {
   "cell_type": "code",
   "execution_count": 68,
   "metadata": {},
   "outputs": [
    {
     "name": "stdout",
     "output_type": "stream",
     "text": [
      "(0, 0.1)\n",
      "(1, 0.11836734693877551)\n",
      "(2, 0.13673469387755102)\n",
      "(3, 0.15510204081632656)\n",
      "(4, 0.17346938775510207)\n",
      "(5, 0.19183673469387758)\n",
      "(6, 0.21020408163265308)\n",
      "(7, 0.2285714285714286)\n",
      "(8, 0.2469387755102041)\n",
      "(9, 0.2653061224489796)\n",
      "(10, 0.2836734693877551)\n",
      "(11, 0.3020408163265306)\n",
      "(12, 0.3204081632653062)\n",
      "(13, 0.3387755102040817)\n",
      "(14, 0.3571428571428572)\n",
      "(15, 0.3755102040816327)\n",
      "(16, 0.3938775510204082)\n",
      "(17, 0.41224489795918373)\n",
      "(18, 0.43061224489795924)\n",
      "(19, 0.44897959183673475)\n",
      "(20, 0.46734693877551026)\n",
      "(21, 0.48571428571428577)\n",
      "(22, 0.5040816326530613)\n",
      "(23, 0.5224489795918368)\n",
      "(24, 0.5408163265306123)\n",
      "(25, 0.5591836734693878)\n",
      "(26, 0.5775510204081633)\n",
      "(27, 0.5959183673469388)\n",
      "(28, 0.6142857142857143)\n",
      "(29, 0.6326530612244898)\n",
      "(30, 0.6510204081632653)\n",
      "(31, 0.6693877551020408)\n",
      "(32, 0.6877551020408164)\n",
      "(33, 0.7061224489795919)\n",
      "(34, 0.7244897959183674)\n",
      "(35, 0.7428571428571429)\n",
      "(36, 0.7612244897959184)\n",
      "(37, 0.7795918367346939)\n",
      "(38, 0.7979591836734694)\n",
      "(39, 0.8163265306122449)\n",
      "(40, 0.8346938775510204)\n",
      "(41, 0.8530612244897959)\n",
      "(42, 0.8714285714285714)\n",
      "(43, 0.889795918367347)\n",
      "(44, 0.9081632653061225)\n",
      "(45, 0.926530612244898)\n",
      "(46, 0.9448979591836735)\n",
      "(47, 0.963265306122449)\n",
      "(48, 0.9816326530612246)\n",
      "(49, 1.0)\n"
     ]
    }
   ],
   "source": [
    "num_fig = 0\n",
    "\n",
    "for i in alpha_test:\n",
    "    CreateFig(i,num_fig)\n",
    "    num_fig += 1\n",
    "    print(num_fig-1,i)"
   ]
  },
  {
   "cell_type": "code",
   "execution_count": 69,
   "metadata": {},
   "outputs": [
    {
     "name": "stdout",
     "output_type": "stream",
     "text": [
      "convert-im6.q16: not authorized `Figures/Decay.pdf' @ error/constitute.c/ReadImage/412.\n",
      "--- Creating gif ---\n"
     ]
    }
   ],
   "source": [
    "!convert Figures/* -loop 0 -delay 200 decay.gif\n",
    "!rm Figures/*\n",
    "!echo '--- Creating gif ---'"
   ]
  },
  {
   "cell_type": "code",
   "execution_count": null,
   "metadata": {},
   "outputs": [],
   "source": []
  }
 ],
 "metadata": {
  "kernelspec": {
   "display_name": "Python 3",
   "language": "python",
   "name": "python3"
  },
  "language_info": {
   "codemirror_mode": {
    "name": "ipython",
    "version": 2
   },
   "file_extension": ".py",
   "mimetype": "text/x-python",
   "name": "python",
   "nbconvert_exporter": "python",
   "pygments_lexer": "ipython2",
   "version": "2.7.16"
  }
 },
 "nbformat": 4,
 "nbformat_minor": 2
}
