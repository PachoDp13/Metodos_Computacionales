{
 "cells": [
  {
   "cell_type": "code",
   "execution_count": 2,
   "metadata": {},
   "outputs": [],
   "source": [
    "import numpy as np\n",
    "import matplotlib.pyplot as plt\n",
    "from matplotlib import rc"
   ]
  },
  {
   "cell_type": "code",
   "execution_count": 31,
   "metadata": {},
   "outputs": [],
   "source": [
    "def Function(x):\n",
    "    #return ((3*x**2)-1)/2.\n",
    "    return ((35*x**4)-1)/2."
   ]
  },
  {
   "cell_type": "code",
   "execution_count": 33,
   "metadata": {},
   "outputs": [],
   "source": [
    "xi, xf , Npoints = -1. , 1. ,100\n",
    "h = (xf-xi)/float(Npoints)\n",
    "\n",
    "X = np.linspace(xi, xf , Npoints)\n",
    "Y = Function (X)"
   ]
  },
  {
   "cell_type": "code",
   "execution_count": 34,
   "metadata": {},
   "outputs": [
    {
     "data": {
      "text/plain": [
       "[<matplotlib.lines.Line2D at 0x1ed07a67a00>]"
      ]
     },
     "execution_count": 34,
     "metadata": {},
     "output_type": "execute_result"
    },
    {
     "data": {
      "image/png": "[encoded data removed]",
      "text/plain": [
       "<Figure size 432x288 with 1 Axes>"
      ]
     },
     "metadata": {
      "needs_background": "light"
     },
     "output_type": "display_data"
    }
   ],
   "source": [
    "plt.plot(X,Y)\n",
    "Y1 = np.zeros(len(X))\n",
    "\n",
    "plt.plot(X,Y,'k')\n",
    "plt.plot(X,Y1,'r--')"
   ]
  },
  {
   "cell_type": "code",
   "execution_count": 9,
   "metadata": {},
   "outputs": [],
   "source": [
    "def Derivada(f,x,h):\n",
    "    d=0.\n",
    "    \n",
    "    if(h!=0):\n",
    "        \n",
    "        d= (f(x+h)-f(x-h))/(2*h)\n",
    "    return d"
   ]
  },
  {
   "cell_type": "code",
   "execution_count": 29,
   "metadata": {},
   "outputs": [],
   "source": [
    "#Definamos el método\n",
    "\n",
    "def NewtonMethod(f,df,xn, error, it, precision = 0.0001, iterations=1000):\n",
    "    \n",
    "    h_= 1.0e-4\n",
    "    \n",
    "    while error > precision and it < iterations:\n",
    "        \n",
    "        try:\n",
    "            xn1 = xn - f(xn)/df(f,xn,h_)\n",
    "            \n",
    "            error = np.abs((xn1-xn)/xn1)\n",
    "            \n",
    "            #print(xn1)\n",
    "        except ZeroDivisionError:\n",
    "            print(\"Hay división por cero.\")\n",
    "        xn = xn1\n",
    "        \n",
    "        it = it +1\n",
    "        \n",
    "    return xn1\n",
    "              "
   ]
  },
  {
   "cell_type": "code",
   "execution_count": 26,
   "metadata": {},
   "outputs": [
    {
     "name": "stdout",
     "output_type": "stream",
     "text": [
      "5.016666666666856\n",
      "2\n",
      "2.5415559246923203\n",
      "3\n",
      "1.3363545900547407\n",
      "4\n",
      "0.7928946925704822\n",
      "5\n",
      "0.6066476014116472\n",
      "6\n",
      "0.57805770928609\n",
      "7\n",
      "0.5773507020802195\n",
      "8\n",
      "0.577350269189788\n",
      "9\n"
     ]
    }
   ],
   "source": [
    "root = NewtonMethod(Function, Derivada,10, 1000,1)"
   ]
  },
  {
   "cell_type": "code",
   "execution_count": 25,
   "metadata": {},
   "outputs": [
    {
     "name": "stdout",
     "output_type": "stream",
     "text": [
      "0.5773502700049091\n"
     ]
    }
   ],
   "source": [
    "print(root)"
   ]
  },
  {
   "cell_type": "code",
   "execution_count": 30,
   "metadata": {},
   "outputs": [
    {
     "name": "stdout",
     "output_type": "stream",
     "text": [
      "-0.5773502700049091\n",
      "-0.5773502691896863\n",
      "-0.5773502691896474\n",
      "-0.5773502700049091\n",
      "-0.5773502692065745\n",
      "0.5773502692065745\n",
      "0.5773502700049091\n",
      "0.5773502691896475\n",
      "0.5773502691896863\n",
      "0.5773502700049091\n"
     ]
    }
   ],
   "source": [
    "Xtest = np.linspace(-1,1,10)\n",
    "\n",
    "for i in Xtest:\n",
    "    print(NewtonMethod(Function, Derivada,i, 1000,0))"
   ]
  },
  {
   "cell_type": "code",
   "execution_count": null,
   "metadata": {},
   "outputs": [],
   "source": [
    "I = w(xi)P(xi)"
   ]
  },
  {
   "cell_type": "markdown",
   "metadata": {},
   "source": [
    "## Interpolación de Lagrange"
   ]
  },
  {
   "cell_type": "code",
   "execution_count": 3,
   "metadata": {},
   "outputs": [],
   "source": [
    "def Lagrange (x, xi, j , n):\n",
    "    \n",
    "    prod = 1.0 \n",
    "    \n",
    "    for k in range (n+1):\n",
    "        if (k != j):\n",
    "            prod *= (x-xi[k])/(xi[j]-xi[k])\n",
    "    return prod"
   ]
  },
  {
   "cell_type": "code",
   "execution_count": 14,
   "metadata": {},
   "outputs": [],
   "source": [
    "def Poly(x, xi, fxi, n):\n",
    "    \n",
    "    sum = 0.\n",
    "    \n",
    "    for j in range (n+1):\n",
    "        \n",
    "        sum += fxi[j]*Lagrange(x,xi,j,n)\n",
    "    return sum"
   ]
  },
  {
   "cell_type": "code",
   "execution_count": 57,
   "metadata": {},
   "outputs": [
    {
     "name": "stdout",
     "output_type": "stream",
     "text": [
      "[-1.  -0.5  0.   0.5  1.   1.5  2.   2.5  3.   3.5  4.   4.5  5. ]\n"
     ]
    }
   ],
   "source": [
    "X1 = [1 , 2 , 3, 4]\n",
    "Y1= [0 , 4 ,5.5,7]\n",
    "\n",
    "Data_ = np.arange( -1, 5+0.5, 0.5)\n",
    "print(Data_)"
   ]
  },
  {
   "cell_type": "code",
   "execution_count": 62,
   "metadata": {},
   "outputs": [],
   "source": [
    "px1 = Poly(Data_, X1, Y1,3)\n"
   ]
  },
  {
   "cell_type": "code",
   "execution_count": 63,
   "metadata": {
    "scrolled": true
   },
   "outputs": [
    {
     "data": {
      "text/plain": [
       "<matplotlib.legend.Legend at 0x2c0656d91c0>"
      ]
     },
     "execution_count": 63,
     "metadata": {},
     "output_type": "execute_result"
    },
    {
     "data": {
      "image/png": "[encoded data removed]",
      "text/plain": [
       "<Figure size 432x288 with 1 Axes>"
      ]
     },
     "metadata": {
      "needs_background": "light"
     },
     "output_type": "display_data"
    }
   ],
   "source": [
    "plt.scatter(X1,Y1,color = 'r' , label = 'f(x)' )\n",
    "plt.plot(Data_, px1, label = r'$p_{1}(x)$')\n",
    "plt.title('Interpolación de Lagrange')\n",
    "plt.legend()"
   ]
  },
  {
   "cell_type": "code",
   "execution_count": 64,
   "metadata": {},
   "outputs": [],
   "source": [
    "#Definamos una función general\n",
    "\n",
    "def f(x):\n",
    "    \n",
    "    return 1/(25*x**2 +1)\n"
   ]
  },
  {
   "cell_type": "code",
   "execution_count": 71,
   "metadata": {},
   "outputs": [],
   "source": [
    "xi, xf= -1. ,1. \n",
    "n= 20\n",
    "\n",
    "h= (xf-xi)/n\n",
    "\n",
    "X = np.arange(xi, xf+h, h)\n",
    "Y = f(X)"
   ]
  },
  {
   "cell_type": "code",
   "execution_count": 73,
   "metadata": {},
   "outputs": [],
   "source": [
    "h2 = (xf-xi)/1000\n",
    "Data = np.arange(xi, xf+h2, h2)"
   ]
  },
  {
   "cell_type": "code",
   "execution_count": 74,
   "metadata": {},
   "outputs": [],
   "source": [
    "px = Poly(Data, X, Y,n)\n",
    "fx = f(Data)"
   ]
  },
  {
   "cell_type": "code",
   "execution_count": 75,
   "metadata": {},
   "outputs": [
    {
     "name": "stderr",
     "output_type": "stream",
     "text": [
      "No handles with labels found to put in legend.\n"
     ]
    },
    {
     "data": {
      "text/plain": [
       "<matplotlib.legend.Legend at 0x2c065828a30>"
      ]
     },
     "execution_count": 75,
     "metadata": {},
     "output_type": "execute_result"
    },
    {
     "data": {
      "image/png": "[encoded data removed]",
      "text/plain": [
       "<Figure size 432x288 with 1 Axes>"
      ]
     },
     "metadata": {
      "needs_background": "light"
     },
     "output_type": "display_data"
    }
   ],
   "source": [
    "plt.plot(Data,px,color = 'b' )\n",
    "plt.plot(Data, fx, 'k')\n",
    "plt.plot(X, Y, 'ro')\n",
    "plt.xlim(-0.5 , 0.5)\n",
    "plt.ylim(-0.5 , 1)\n",
    "plt.legend()"
   ]
  }
 ],
 "metadata": {
  "kernelspec": {
   "display_name": "Python 3",
   "language": "python",
   "name": "python3"
  },
  "language_info": {
   "codemirror_mode": {
    "name": "ipython",
    "version": 3
   },
   "file_extension": ".py",
   "mimetype": "text/x-python",
   "name": "python",
   "nbconvert_exporter": "python",
   "pygments_lexer": "ipython3",
   "version": "3.8.5"
  }
 },
 "nbformat": 4,
 "nbformat_minor": 2
}
