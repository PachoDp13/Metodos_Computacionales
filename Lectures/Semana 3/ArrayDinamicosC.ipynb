{
 "cells": [
  {
   "cell_type": "code",
   "execution_count": 1,
   "metadata": {},
   "outputs": [],
   "source": [
    "#include<iostream>\n",
    "#include<vector>\n",
    "#include<math.h> \n",
    "#include<fstream>"
   ]
  },
  {
   "cell_type": "code",
   "execution_count": 2,
   "metadata": {},
   "outputs": [],
   "source": [
    "double f(double x_){\n",
    "    double f_ = tan(x_);\n",
    "    return f_;\n",
    "}"
   ]
  },
  {
   "cell_type": "code",
   "execution_count": 3,
   "metadata": {},
   "outputs": [],
   "source": [
    "int main(){\n",
    "    \n",
    "    // output file\n",
    "    std::ofstream out;\n",
    "    out.open(\"data.dat\", std::ofstream::trunc);\n",
    "    \n",
    "    double xi = 0.;\n",
    "    double xf = 1.;\n",
    "    int Npoints = 11;\n",
    "    double h = (xf-xi)/double(Npoints-1);\n",
    "    \n",
    "    \n",
    "    printf(\"El paso es: %f \\n\",h);\n",
    "    \n",
    "    // Dynamic arrays like-pointers\n",
    "    \n",
    "    double *x = new double[Npoints]; \n",
    "    double *fx = new double[Npoints];\n",
    "    \n",
    "    // Filling the array and functions\n",
    "    for(int i=0; i<Npoints;++i){\n",
    "        x[i] = xi + double(i)*h;\n",
    "        fx[i] = f(x[i]);\n",
    "    }\n",
    "    \n",
    "    \n",
    "     \n",
    "    // Printing and saving the information\n",
    "    std::cout << \" --- File content --- \"  << std::endl;\n",
    "    \n",
    "    for(int i=0; i<Npoints;i++){\n",
    "        std::cout << x[i] << \" \" << fx[i] << std::endl;\n",
    "        out << x[i] << \" \" << fx[i] << std::endl;\n",
    "    }\n",
    "    \n",
    "   \n",
    "    \n",
    "    // Free up memory  \n",
    "    \n",
    "    delete[] x;\n",
    "    delete[] fx;\n",
    "    \n",
    "    // Close the output file\n",
    "    \n",
    "    out.close();\n",
    "    \n",
    "    return 0;\n",
    "}"
   ]
  },
  {
   "cell_type": "code",
   "execution_count": 4,
   "metadata": {},
   "outputs": [
    {
     "name": "stdout",
     "output_type": "stream",
     "text": [
      "El paso es: 0.100000 \n",
      " --- File content --- \n",
      "0 0\n",
      "0.1 0.100335\n",
      "0.2 0.20271\n",
      "0.3 0.309336\n",
      "0.4 0.422793\n",
      "0.5 0.546302\n",
      "0.6 0.684137\n",
      "0.7 0.842288\n",
      "0.8 1.02964\n",
      "0.9 1.26016\n",
      "1 1.55741\n"
     ]
    },
    {
     "data": {
      "text/plain": [
       "0"
      ]
     },
     "execution_count": 4,
     "metadata": {},
     "output_type": "execute_result"
    }
   ],
   "source": [
    "main()"
   ]
  },
  {
   "cell_type": "code",
   "execution_count": null,
   "metadata": {},
   "outputs": [],
   "source": []
  },
  {
   "cell_type": "code",
   "execution_count": null,
   "metadata": {},
   "outputs": [],
   "source": []
  }
 ],
 "metadata": {
  "kernelspec": {
   "display_name": "C++11 [conda env:xeus-cling]",
   "language": "C++11",
   "name": "conda-env-xeus-cling-xcpp11"
  },
  "language_info": {
   "codemirror_mode": "text/x-c++src",
   "file_extension": ".cpp",
   "mimetype": "text/x-c++src",
   "name": "c++",
   "version": "11"
  }
 },
 "nbformat": 4,
 "nbformat_minor": 2
}
